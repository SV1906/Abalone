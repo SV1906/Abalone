{
 "cells": [
  {
   "cell_type": "code",
   "execution_count": 2,
   "metadata": {},
   "outputs": [],
   "source": [
    "import pandas as pd\n",
    "import numpy as np\n",
    "import matplotlib.pyplot as plt\n",
    "import seaborn as sns"
   ]
  },
  {
   "cell_type": "code",
   "execution_count": 3,
   "metadata": {},
   "outputs": [],
   "source": [
    "import seaborn as sns\n",
    "from sklearn.ensemble import ExtraTreesClassifier\n",
    "import statsmodels.formula.api as smf\n",
    "import statsmodels.api as sm\n",
    "import pylab\n",
    "import scipy.stats as st\n",
    "from sklearn.preprocessing import MinMaxScaler \n",
    "from sklearn.metrics import mean_squared_error\n",
    "from sklearn.metrics import accuracy_score\n",
    "from sklearn.metrics import r2_score\n",
    "from sklearn.preprocessing import StandardScaler\n",
    "from sklearn.pipeline import Pipeline\n",
    "from sklearn import tree\n",
    "from sklearn.model_selection import train_test_split\n",
    "from sklearn.tree import DecisionTreeRegressor\n",
    "from sklearn.linear_model import LinearRegression\n",
    "from sklearn.linear_model import Ridge\n",
    "from sklearn.ensemble import RandomForestRegressor\n",
    "from sklearn.naive_bayes import GaussianNB\n",
    "from sklearn.svm import SVR\n",
    "from sklearn.svm import LinearSVC\n",
    "from sklearn.neighbors import KNeighborsRegressor\n",
    "from sklearn.ensemble import BaggingRegressor\n",
    "from sklearn.ensemble import AdaBoostRegressor\n",
    "from sklearn.ensemble import GradientBoostingRegressor"
   ]
  },
  {
   "cell_type": "code",
   "execution_count": 4,
   "metadata": {},
   "outputs": [],
   "source": [
    "#Reading the csv file\n",
    "data = pd.read_csv(r\"D:\\A.csv\")"
   ]
  },
  {
   "cell_type": "code",
   "execution_count": 5,
   "metadata": {},
   "outputs": [
    {
     "data": {
      "text/plain": [
       "Index(['Sex', 'Length', 'Diameter', 'Height', 'Wweight', 'Sweight', 'Vweight',\n",
       "       'ssweight', 'Rings'],\n",
       "      dtype='object')"
      ]
     },
     "execution_count": 5,
     "metadata": {},
     "output_type": "execute_result"
    }
   ],
   "source": [
    "#Columns of the data\n",
    "data.columns"
   ]
  },
  {
   "cell_type": "code",
   "execution_count": 7,
   "metadata": {},
   "outputs": [
    {
     "data": {
      "text/plain": [
       "array(['M', 'F', 'I'], dtype=object)"
      ]
     },
     "execution_count": 7,
     "metadata": {},
     "output_type": "execute_result"
    }
   ],
   "source": [
    "data[\"Sex\"].unique()"
   ]
  },
  {
   "cell_type": "code",
   "execution_count": 8,
   "metadata": {},
   "outputs": [],
   "source": [
    "data[\"Sex\"].replace(\"M\",1, inplace=True)\n",
    "data[\"Sex\"].replace(\"F\",2,inplace=True)\n",
    "data[\"Sex\"].replace(\"I\",3,inplace=True)"
   ]
  },
  {
   "cell_type": "code",
   "execution_count": 9,
   "metadata": {},
   "outputs": [],
   "source": [
    "#Feature Selection Technique"
   ]
  },
  {
   "cell_type": "code",
   "execution_count": 10,
   "metadata": {},
   "outputs": [
    {
     "name": "stdout",
     "output_type": "stream",
     "text": [
      "[0.03705547 0.13080474 0.12967883 0.11773223 0.14788987 0.14644055\n",
      " 0.13995279 0.15044552]\n"
     ]
    },
    {
     "data": {
      "image/png": "[encoded data removed]",
      "text/plain": [
       "<Figure size 432x288 with 1 Axes>"
      ]
     },
     "metadata": {
      "needs_background": "light"
     },
     "output_type": "display_data"
    }
   ],
   "source": [
    "features1=data.drop(\"Rings\", axis=1)\n",
    "target1 = data[\"Rings\"] \n",
    "model = ExtraTreesClassifier(n_estimators=100)\n",
    "model.fit(features1,target1)\n",
    "print(model.feature_importances_)\n",
    "feat_importances = pd.Series(model.feature_importances_, index=features1.columns)\n",
    "feat_importances.nlargest(1000).plot(kind='barh')\n",
    "plt.show()"
   ]
  },
  {
   "cell_type": "code",
   "execution_count": 11,
   "metadata": {},
   "outputs": [
    {
     "data": {
      "text/html": [
       "<div>\n",
       "<style scoped>\n",
       "    .dataframe tbody tr th:only-of-type {\n",
       "        vertical-align: middle;\n",
       "    }\n",
       "\n",
       "    .dataframe tbody tr th {\n",
       "        vertical-align: top;\n",
       "    }\n",
       "\n",
       "    .dataframe thead th {\n",
       "        text-align: right;\n",
       "    }\n",
       "</style>\n",
       "<table border=\"1\" class=\"dataframe\">\n",
       "  <thead>\n",
       "    <tr style=\"text-align: right;\">\n",
       "      <th></th>\n",
       "      <th>Sex</th>\n",
       "      <th>Length</th>\n",
       "      <th>Diameter</th>\n",
       "      <th>Height</th>\n",
       "      <th>Wweight</th>\n",
       "      <th>Sweight</th>\n",
       "      <th>Vweight</th>\n",
       "      <th>ssweight</th>\n",
       "      <th>Rings</th>\n",
       "    </tr>\n",
       "  </thead>\n",
       "  <tbody>\n",
       "    <tr>\n",
       "      <th>0</th>\n",
       "      <td>1</td>\n",
       "      <td>0.455</td>\n",
       "      <td>0.365</td>\n",
       "      <td>0.095</td>\n",
       "      <td>0.5140</td>\n",
       "      <td>0.2245</td>\n",
       "      <td>0.1010</td>\n",
       "      <td>0.150</td>\n",
       "      <td>15</td>\n",
       "    </tr>\n",
       "    <tr>\n",
       "      <th>1</th>\n",
       "      <td>1</td>\n",
       "      <td>0.350</td>\n",
       "      <td>0.265</td>\n",
       "      <td>0.090</td>\n",
       "      <td>0.2255</td>\n",
       "      <td>0.0995</td>\n",
       "      <td>0.0485</td>\n",
       "      <td>0.070</td>\n",
       "      <td>7</td>\n",
       "    </tr>\n",
       "    <tr>\n",
       "      <th>2</th>\n",
       "      <td>2</td>\n",
       "      <td>0.530</td>\n",
       "      <td>0.420</td>\n",
       "      <td>0.135</td>\n",
       "      <td>0.6770</td>\n",
       "      <td>0.2565</td>\n",
       "      <td>0.1415</td>\n",
       "      <td>0.210</td>\n",
       "      <td>9</td>\n",
       "    </tr>\n",
       "    <tr>\n",
       "      <th>3</th>\n",
       "      <td>1</td>\n",
       "      <td>0.440</td>\n",
       "      <td>0.365</td>\n",
       "      <td>0.125</td>\n",
       "      <td>0.5160</td>\n",
       "      <td>0.2155</td>\n",
       "      <td>0.1140</td>\n",
       "      <td>0.155</td>\n",
       "      <td>10</td>\n",
       "    </tr>\n",
       "    <tr>\n",
       "      <th>4</th>\n",
       "      <td>3</td>\n",
       "      <td>0.330</td>\n",
       "      <td>0.255</td>\n",
       "      <td>0.080</td>\n",
       "      <td>0.2050</td>\n",
       "      <td>0.0895</td>\n",
       "      <td>0.0395</td>\n",
       "      <td>0.055</td>\n",
       "      <td>7</td>\n",
       "    </tr>\n",
       "  </tbody>\n",
       "</table>\n",
       "</div>"
      ],
      "text/plain": [
       "   Sex  Length  Diameter  Height  Wweight  Sweight  Vweight  ssweight  Rings\n",
       "0    1   0.455     0.365   0.095   0.5140   0.2245   0.1010     0.150     15\n",
       "1    1   0.350     0.265   0.090   0.2255   0.0995   0.0485     0.070      7\n",
       "2    2   0.530     0.420   0.135   0.6770   0.2565   0.1415     0.210      9\n",
       "3    1   0.440     0.365   0.125   0.5160   0.2155   0.1140     0.155     10\n",
       "4    3   0.330     0.255   0.080   0.2050   0.0895   0.0395     0.055      7"
      ]
     },
     "execution_count": 11,
     "metadata": {},
     "output_type": "execute_result"
    }
   ],
   "source": [
    "data.head()"
   ]
  },
  {
   "cell_type": "code",
   "execution_count": 12,
   "metadata": {},
   "outputs": [
    {
     "data": {
      "text/plain": [
       "<matplotlib.axes._subplots.AxesSubplot at 0x288b6880a60>"
      ]
     },
     "execution_count": 12,
     "metadata": {},
     "output_type": "execute_result"
    },
    {
     "data": {
      "image/png": "[encoded data removed]",
      "text/plain": [
       "<Figure size 432x288 with 2 Axes>"
      ]
     },
     "metadata": {
      "needs_background": "light"
     },
     "output_type": "display_data"
    }
   ],
   "source": [
    "def heatmap1(x):\n",
    "    return sns.heatmap(x.corr(),cmap=\"YlGnBu\")\n",
    "heatmap1(data)"
   ]
  },
  {
   "cell_type": "code",
   "execution_count": 13,
   "metadata": {},
   "outputs": [],
   "source": [
    "#Delete a column "
   ]
  },
  {
   "cell_type": "code",
   "execution_count": 14,
   "metadata": {},
   "outputs": [],
   "source": [
    "#DROP SEX\n",
    "data=data.drop(\"Sex\",axis=1)"
   ]
  },
  {
   "cell_type": "code",
   "execution_count": 15,
   "metadata": {},
   "outputs": [],
   "source": [
    "#Variables features and target\n",
    "features=data.drop(\"Rings\", axis=1)\n",
    "target=data[\"Rings\"]\n",
    "X_train,X_test,Y_train,Y_test = train_test_split(features,target,test_size=0.33,random_state=42)"
   ]
  },
  {
   "cell_type": "code",
   "execution_count": 16,
   "metadata": {},
   "outputs": [
    {
     "data": {
      "text/plain": [
       "<bound method DataFrame.sum of       Length  Diameter  Height  Wweight  Sweight  Vweight  ssweight  Rings\n",
       "0      0.455     0.365   0.095   0.5140   0.2245   0.1010    0.1500     15\n",
       "1      0.350     0.265   0.090   0.2255   0.0995   0.0485    0.0700      7\n",
       "2      0.530     0.420   0.135   0.6770   0.2565   0.1415    0.2100      9\n",
       "3      0.440     0.365   0.125   0.5160   0.2155   0.1140    0.1550     10\n",
       "4      0.330     0.255   0.080   0.2050   0.0895   0.0395    0.0550      7\n",
       "...      ...       ...     ...      ...      ...      ...       ...    ...\n",
       "4172   0.565     0.450   0.165   0.8870   0.3700   0.2390    0.2490     11\n",
       "4173   0.590     0.440   0.135   0.9660   0.4390   0.2145    0.2605     10\n",
       "4174   0.600     0.475   0.205   1.1760   0.5255   0.2875    0.3080      9\n",
       "4175   0.625     0.485   0.150   1.0945   0.5310   0.2610    0.2960     10\n",
       "4176   0.710     0.555   0.195   1.9485   0.9455   0.3765    0.4950     12\n",
       "\n",
       "[4177 rows x 8 columns]>"
      ]
     },
     "execution_count": 16,
     "metadata": {},
     "output_type": "execute_result"
    }
   ],
   "source": [
    "data.sum"
   ]
  },
  {
   "cell_type": "code",
   "execution_count": 17,
   "metadata": {},
   "outputs": [
    {
     "name": "stdout",
     "output_type": "stream",
     "text": [
      "<class 'pandas.core.frame.DataFrame'>\n",
      "RangeIndex: 4177 entries, 0 to 4176\n",
      "Data columns (total 8 columns):\n",
      " #   Column    Non-Null Count  Dtype  \n",
      "---  ------    --------------  -----  \n",
      " 0   Length    4177 non-null   float64\n",
      " 1   Diameter  4177 non-null   float64\n",
      " 2   Height    4177 non-null   float64\n",
      " 3   Wweight   4177 non-null   float64\n",
      " 4   Sweight   4177 non-null   float64\n",
      " 5   Vweight   4177 non-null   float64\n",
      " 6   ssweight  4177 non-null   float64\n",
      " 7   Rings     4177 non-null   int64  \n",
      "dtypes: float64(7), int64(1)\n",
      "memory usage: 261.2 KB\n"
     ]
    }
   ],
   "source": [
    "data.info()"
   ]
  },
  {
   "cell_type": "code",
   "execution_count": 18,
   "metadata": {},
   "outputs": [
    {
     "data": {
      "text/html": [
       "<div>\n",
       "<style scoped>\n",
       "    .dataframe tbody tr th:only-of-type {\n",
       "        vertical-align: middle;\n",
       "    }\n",
       "\n",
       "    .dataframe tbody tr th {\n",
       "        vertical-align: top;\n",
       "    }\n",
       "\n",
       "    .dataframe thead th {\n",
       "        text-align: right;\n",
       "    }\n",
       "</style>\n",
       "<table border=\"1\" class=\"dataframe\">\n",
       "  <thead>\n",
       "    <tr style=\"text-align: right;\">\n",
       "      <th></th>\n",
       "      <th>Length</th>\n",
       "      <th>Diameter</th>\n",
       "      <th>Height</th>\n",
       "      <th>Wweight</th>\n",
       "      <th>Sweight</th>\n",
       "      <th>Vweight</th>\n",
       "      <th>ssweight</th>\n",
       "      <th>Rings</th>\n",
       "    </tr>\n",
       "  </thead>\n",
       "  <tbody>\n",
       "    <tr>\n",
       "      <th>count</th>\n",
       "      <td>4177.000000</td>\n",
       "      <td>4177.000000</td>\n",
       "      <td>4177.000000</td>\n",
       "      <td>4177.000000</td>\n",
       "      <td>4177.000000</td>\n",
       "      <td>4177.000000</td>\n",
       "      <td>4177.000000</td>\n",
       "      <td>4177.000000</td>\n",
       "    </tr>\n",
       "    <tr>\n",
       "      <th>mean</th>\n",
       "      <td>0.523992</td>\n",
       "      <td>0.407881</td>\n",
       "      <td>0.139516</td>\n",
       "      <td>0.828742</td>\n",
       "      <td>0.359367</td>\n",
       "      <td>0.180594</td>\n",
       "      <td>0.238831</td>\n",
       "      <td>9.933684</td>\n",
       "    </tr>\n",
       "    <tr>\n",
       "      <th>std</th>\n",
       "      <td>0.120093</td>\n",
       "      <td>0.099240</td>\n",
       "      <td>0.041827</td>\n",
       "      <td>0.490389</td>\n",
       "      <td>0.221963</td>\n",
       "      <td>0.109614</td>\n",
       "      <td>0.139203</td>\n",
       "      <td>3.224169</td>\n",
       "    </tr>\n",
       "    <tr>\n",
       "      <th>min</th>\n",
       "      <td>0.075000</td>\n",
       "      <td>0.055000</td>\n",
       "      <td>0.000000</td>\n",
       "      <td>0.002000</td>\n",
       "      <td>0.001000</td>\n",
       "      <td>0.000500</td>\n",
       "      <td>0.001500</td>\n",
       "      <td>1.000000</td>\n",
       "    </tr>\n",
       "    <tr>\n",
       "      <th>25%</th>\n",
       "      <td>0.450000</td>\n",
       "      <td>0.350000</td>\n",
       "      <td>0.115000</td>\n",
       "      <td>0.441500</td>\n",
       "      <td>0.186000</td>\n",
       "      <td>0.093500</td>\n",
       "      <td>0.130000</td>\n",
       "      <td>8.000000</td>\n",
       "    </tr>\n",
       "    <tr>\n",
       "      <th>50%</th>\n",
       "      <td>0.545000</td>\n",
       "      <td>0.425000</td>\n",
       "      <td>0.140000</td>\n",
       "      <td>0.799500</td>\n",
       "      <td>0.336000</td>\n",
       "      <td>0.171000</td>\n",
       "      <td>0.234000</td>\n",
       "      <td>9.000000</td>\n",
       "    </tr>\n",
       "    <tr>\n",
       "      <th>75%</th>\n",
       "      <td>0.615000</td>\n",
       "      <td>0.480000</td>\n",
       "      <td>0.165000</td>\n",
       "      <td>1.153000</td>\n",
       "      <td>0.502000</td>\n",
       "      <td>0.253000</td>\n",
       "      <td>0.329000</td>\n",
       "      <td>11.000000</td>\n",
       "    </tr>\n",
       "    <tr>\n",
       "      <th>max</th>\n",
       "      <td>0.815000</td>\n",
       "      <td>0.650000</td>\n",
       "      <td>1.130000</td>\n",
       "      <td>2.825500</td>\n",
       "      <td>1.488000</td>\n",
       "      <td>0.760000</td>\n",
       "      <td>1.005000</td>\n",
       "      <td>29.000000</td>\n",
       "    </tr>\n",
       "  </tbody>\n",
       "</table>\n",
       "</div>"
      ],
      "text/plain": [
       "            Length     Diameter       Height      Wweight      Sweight  \\\n",
       "count  4177.000000  4177.000000  4177.000000  4177.000000  4177.000000   \n",
       "mean      0.523992     0.407881     0.139516     0.828742     0.359367   \n",
       "std       0.120093     0.099240     0.041827     0.490389     0.221963   \n",
       "min       0.075000     0.055000     0.000000     0.002000     0.001000   \n",
       "25%       0.450000     0.350000     0.115000     0.441500     0.186000   \n",
       "50%       0.545000     0.425000     0.140000     0.799500     0.336000   \n",
       "75%       0.615000     0.480000     0.165000     1.153000     0.502000   \n",
       "max       0.815000     0.650000     1.130000     2.825500     1.488000   \n",
       "\n",
       "           Vweight     ssweight        Rings  \n",
       "count  4177.000000  4177.000000  4177.000000  \n",
       "mean      0.180594     0.238831     9.933684  \n",
       "std       0.109614     0.139203     3.224169  \n",
       "min       0.000500     0.001500     1.000000  \n",
       "25%       0.093500     0.130000     8.000000  \n",
       "50%       0.171000     0.234000     9.000000  \n",
       "75%       0.253000     0.329000    11.000000  \n",
       "max       0.760000     1.005000    29.000000  "
      ]
     },
     "execution_count": 18,
     "metadata": {},
     "output_type": "execute_result"
    }
   ],
   "source": [
    "data.describe()"
   ]
  },
  {
   "cell_type": "code",
   "execution_count": 19,
   "metadata": {},
   "outputs": [
    {
     "data": {
      "text/plain": [
       "Index(['Length', 'Diameter', 'Height', 'Wweight', 'Sweight', 'Vweight',\n",
       "       'ssweight', 'Rings'],\n",
       "      dtype='object')"
      ]
     },
     "execution_count": 19,
     "metadata": {},
     "output_type": "execute_result"
    }
   ],
   "source": [
    "data.columns"
   ]
  },
  {
   "cell_type": "code",
   "execution_count": 20,
   "metadata": {},
   "outputs": [],
   "source": [
    "#VIOLIN PLOT "
   ]
  },
  {
   "cell_type": "code",
   "execution_count": 32,
   "metadata": {},
   "outputs": [
    {
     "data": {
      "text/plain": [
       "(array([ 786., 1052.,  962.,  775.,  399.,  123.,   46.,   24.,    7.,\n",
       "           3.]),\n",
       " array([1.0000e-03, 1.4970e-01, 2.9840e-01, 4.4710e-01, 5.9580e-01,\n",
       "        7.4450e-01, 8.9320e-01, 1.0419e+00, 1.1906e+00, 1.3393e+00,\n",
       "        1.4880e+00]),\n",
       " <a list of 10 Patch objects>)"
      ]
     },
     "execution_count": 32,
     "metadata": {},
     "output_type": "execute_result"
    },
    {
     "data": {
      "image/png": "[encoded data removed]",
      "text/plain": [
       "<Figure size 432x288 with 1 Axes>"
      ]
     },
     "metadata": {
      "needs_background": "light"
     },
     "output_type": "display_data"
    }
   ],
   "source": [
    "plt.hist(data.Sweight)"
   ]
  },
  {
   "cell_type": "code",
   "execution_count": 33,
   "metadata": {},
   "outputs": [
    {
     "data": {
      "text/plain": [
       "(array([632., 783., 827., 824., 616., 286., 129.,  58.,  16.,   6.]),\n",
       " array([2.00000e-03, 2.84350e-01, 5.66700e-01, 8.49050e-01, 1.13140e+00,\n",
       "        1.41375e+00, 1.69610e+00, 1.97845e+00, 2.26080e+00, 2.54315e+00,\n",
       "        2.82550e+00]),\n",
       " <a list of 10 Patch objects>)"
      ]
     },
     "execution_count": 33,
     "metadata": {},
     "output_type": "execute_result"
    },
    {
     "data": {
      "image/png": "[encoded data removed]",
      "text/plain": [
       "<Figure size 432x288 with 1 Axes>"
      ]
     },
     "metadata": {
      "needs_background": "light"
     },
     "output_type": "display_data"
    }
   ],
   "source": [
    "plt.hist(data.Wweight)"
   ]
  },
  {
   "cell_type": "code",
   "execution_count": 34,
   "metadata": {},
   "outputs": [
    {
     "data": {
      "text/plain": [
       "(array([   7.,   60.,  147.,  304.,  460.,  778., 1051., 1017.,  324.,\n",
       "          29.]),\n",
       " array([0.075, 0.149, 0.223, 0.297, 0.371, 0.445, 0.519, 0.593, 0.667,\n",
       "        0.741, 0.815]),\n",
       " <a list of 10 Patch objects>)"
      ]
     },
     "execution_count": 34,
     "metadata": {},
     "output_type": "execute_result"
    },
    {
     "data": {
      "image/png": "[encoded data removed]",
      "text/plain": [
       "<Figure size 432x288 with 1 Axes>"
      ]
     },
     "metadata": {
      "needs_background": "light"
     },
     "output_type": "display_data"
    }
   ],
   "source": [
    "plt.hist(data.Length)"
   ]
  },
  {
   "cell_type": "code",
   "execution_count": 35,
   "metadata": {},
   "outputs": [
    {
     "data": {
      "text/plain": [
       "(array([  13.,   66.,  180.,  344.,  513.,  812., 1017.,  934.,  275.,\n",
       "          23.]),\n",
       " array([0.055 , 0.1145, 0.174 , 0.2335, 0.293 , 0.3525, 0.412 , 0.4715,\n",
       "        0.531 , 0.5905, 0.65  ]),\n",
       " <a list of 10 Patch objects>)"
      ]
     },
     "execution_count": 35,
     "metadata": {},
     "output_type": "execute_result"
    },
    {
     "data": {
      "image/png": "[encoded data removed]",
      "text/plain": [
       "<Figure size 432x288 with 1 Axes>"
      ]
     },
     "metadata": {
      "needs_background": "light"
     },
     "output_type": "display_data"
    }
   ],
   "source": [
    "plt.hist(data.Diameter)"
   ]
  },
  {
   "cell_type": "code",
   "execution_count": 36,
   "metadata": {},
   "outputs": [
    {
     "data": {
      "text/plain": [
       "(array([8.350e+02, 9.990e+02, 1.027e+03, 7.470e+02, 3.630e+02, 1.470e+02,\n",
       "        5.000e+01, 7.000e+00, 1.000e+00, 1.000e+00]),\n",
       " array([5.0000e-04, 7.6450e-02, 1.5240e-01, 2.2835e-01, 3.0430e-01,\n",
       "        3.8025e-01, 4.5620e-01, 5.3215e-01, 6.0810e-01, 6.8405e-01,\n",
       "        7.6000e-01]),\n",
       " <a list of 10 Patch objects>)"
      ]
     },
     "execution_count": 36,
     "metadata": {},
     "output_type": "execute_result"
    },
    {
     "data": {
      "image/png": "[encoded data removed]",
      "text/plain": [
       "<Figure size 432x288 with 1 Axes>"
      ]
     },
     "metadata": {
      "needs_background": "light"
     },
     "output_type": "display_data"
    }
   ],
   "source": [
    "plt.hist(data.Vweight)"
   ]
  },
  {
   "cell_type": "code",
   "execution_count": 37,
   "metadata": {},
   "outputs": [],
   "source": [
    "#HEAT MAP"
   ]
  },
  {
   "cell_type": "code",
   "execution_count": 38,
   "metadata": {},
   "outputs": [
    {
     "data": {
      "text/plain": [
       "<matplotlib.axes._subplots.AxesSubplot at 0x288b6e9d8e0>"
      ]
     },
     "execution_count": 38,
     "metadata": {},
     "output_type": "execute_result"
    },
    {
     "data": {
      "image/png": "[encoded data removed]",
      "text/plain": [
       "<Figure size 432x288 with 2 Axes>"
      ]
     },
     "metadata": {
      "needs_background": "light"
     },
     "output_type": "display_data"
    }
   ],
   "source": [
    "heatmap1(features)"
   ]
  },
  {
   "cell_type": "code",
   "execution_count": 39,
   "metadata": {},
   "outputs": [
    {
     "name": "stdout",
     "output_type": "stream",
     "text": [
      "Length      0.014\n",
      "Diameter    0.010\n",
      "Height      0.002\n",
      "Wweight     0.243\n",
      "Sweight     0.050\n",
      "Vweight     0.012\n",
      "ssweight    0.020\n"
     ]
    }
   ],
   "source": [
    "print(X_train.var().round(3).to_string())"
   ]
  },
  {
   "cell_type": "markdown",
   "metadata": {},
   "source": [
    "Linear Regression"
   ]
  },
  {
   "cell_type": "code",
   "execution_count": 40,
   "metadata": {},
   "outputs": [],
   "source": [
    "from sklearn.linear_model import LinearRegression\n",
    "def LR(F,T):\n",
    "  #  features=data.drop(\"Rings\", axis=1)\n",
    "   # target=data[\"Rings\"]\n",
    "    X_train,X_test,Y_train,Y_test = train_test_split(F,T,test_size=0.33,random_state=42)\n",
    "    ModelLR = LinearRegression().fit(X_train, Y_train)\n",
    "   # print(\"Test score \"+str(ModelLR.score(X_test, Y_test)))\n",
    "   # print(\"Train score \"+str(ModelLR.score(X_train, Y_train)))\n",
    "    predLR = ModelLR.predict(X_test)\n",
    "    RMSE = np.sqrt(mean_squared_error(Y_test,predLR))\n",
    "  #  print(RMSE)\n",
    "    return RMSE"
   ]
  },
  {
   "cell_type": "markdown",
   "metadata": {},
   "source": [
    "SVC"
   ]
  },
  {
   "cell_type": "code",
   "execution_count": 41,
   "metadata": {},
   "outputs": [],
   "source": [
    "from sklearn.svm import SVR\n",
    "def SV(F,T):\n",
    "   #features=data.drop(\"Rings\", axis=1)\n",
    "   #target=data[\"Rings\"]\n",
    "   X_train,X_test,Y_train,Y_test = train_test_split(F,T,test_size=0.33,random_state=42)\n",
    "   svr_rbf = SVR(kernel='rbf', C=100, gamma=1, epsilon=.01).fit(X_train, Y_train)\n",
    "   svr_lin = SVR(kernel='linear', C=100, gamma='auto').fit(X_train, Y_train)\n",
    "   svr_poly = SVR(kernel='poly', C=100, gamma='auto', degree=3, epsilon=.1, coef0=1).fit(X_train, Y_train)\n",
    "\n",
    "   #print(\"Test score for rbf :\",str(svr_rbf.score(X_test, Y_test)))\n",
    "   #print(\"Test score for lin :\",str(svr_rbf.score(X_test, Y_test)))\n",
    "   #print(\"Test score for poly :\",str(svr_rbf.score(X_test, Y_test)))\n",
    "   predSVR = svr_rbf.predict(X_test)\n",
    "   RMSE = np.sqrt(mean_squared_error(Y_test,predSVR))\n",
    "  # print(RMSE)\n",
    "   return RMSE"
   ]
  },
  {
   "cell_type": "markdown",
   "metadata": {},
   "source": [
    "Decision Tree"
   ]
  },
  {
   "cell_type": "code",
   "execution_count": 42,
   "metadata": {},
   "outputs": [],
   "source": [
    "from sklearn.tree import DecisionTreeRegressor\n",
    "def DT(F,T): \n",
    "#  features=data.drop(\"Rings\", axis=1)\n",
    " # target=data[\"Rings\"]\n",
    "  X_train,X_test,Y_train,Y_test = train_test_split(F,T,test_size=0.33,random_state=42)\n",
    "  ModelDT = DecisionTreeRegressor()\n",
    "  ModelDT.fit(X_train,Y_train)\n",
    "  #print(\"Test score \"+str(ModelDT.score(X_test, Y_test)))\n",
    "  #print(\"Train score \"+str(ModelDT.score(X_train, Y_train)))\n",
    "  predDT = ModelDT.predict(X_test)\n",
    "  RMSE = np.sqrt(mean_squared_error(Y_test,predDT))\n",
    " # print(RMSE)\n",
    "  return RMSE"
   ]
  },
  {
   "cell_type": "markdown",
   "metadata": {},
   "source": [
    "Random Forest "
   ]
  },
  {
   "cell_type": "code",
   "execution_count": 43,
   "metadata": {},
   "outputs": [],
   "source": [
    "from sklearn.ensemble import RandomForestRegressor\n",
    "def RF(F,T): \n",
    "#  features=data.drop(\"Rings\", axis=1)\n",
    " # target=data[\"Rings\"]\n",
    "  X_train,X_test,Y_train,Y_test = train_test_split(F,T,test_size=0.33,random_state=42) \n",
    "  ModelRF = RandomForestRegressor(n_estimators=10)\n",
    "  ModelRF.fit(X_train, Y_train)\n",
    "  #print(\"Test score \"+str(ModelRF.score(X_test, Y_test)))\n",
    "  #print(\"Train score \"+str(ModelRF.score(X_train, Y_train)))\n",
    "  predRF = ModelRF.predict(X_test)\n",
    "  RMSE = np.sqrt(mean_squared_error(Y_test,predRF))\n",
    " # print(RMSE)\n",
    "  return RMSE"
   ]
  },
  {
   "cell_type": "markdown",
   "metadata": {},
   "source": [
    "KNN"
   ]
  },
  {
   "cell_type": "code",
   "execution_count": 44,
   "metadata": {},
   "outputs": [],
   "source": [
    "def KNN(F,T):\n",
    "  # features=data.drop(\"Rings\", axis=1)\n",
    "  # target=data[\"Rings\"]\n",
    "   X_train,X_test,Y_train,Y_test = train_test_split(F,T,test_size=0.33,random_state=42)\n",
    "   ModelKN = KNeighborsRegressor(n_neighbors = 7)\n",
    "   ModelKN.fit(X_train,Y_train)\n",
    "   #print(\"Test score \"+str(ModelKN.score(X_test, Y_test)))\n",
    "   #print(\"Train score \"+str(ModelKN.score(X_train, Y_train)))\n",
    "   predKN = ModelKN.predict(X_test)\n",
    "   RMSE = np.sqrt(mean_squared_error(Y_test,predKN))\n",
    "  # print(RMSE)\n",
    "   return RMSE \n"
   ]
  },
  {
   "cell_type": "markdown",
   "metadata": {},
   "source": [
    "Bagging Regression"
   ]
  },
  {
   "cell_type": "code",
   "execution_count": 45,
   "metadata": {},
   "outputs": [],
   "source": [
    "def BC(F,T):\n",
    " #  features=data.drop(\"Rings\", axis=1)\n",
    "  # target=data[\"Rings\"]\n",
    "   X_train,X_test,Y_train,Y_test = train_test_split(F,T,test_size=0.33,random_state=42)\n",
    "   ModelBC = BaggingRegressor(tree.DecisionTreeRegressor(random_state=1))\n",
    "   ModelBC.fit(X_train,Y_train)\n",
    "  # print(\"Test score \"+str(ModelBC.score(X_test, Y_test)))\n",
    "  # print(\"Train score \"+str(ModelBC.score(X_train, Y_train)))\n",
    "   predBC = ModelBC.predict(X_test)\n",
    "   RMSE = np.sqrt(mean_squared_error(Y_test,predBC))\n",
    "  # print(RMSE)\n",
    "   return RMSE"
   ]
  },
  {
   "cell_type": "markdown",
   "metadata": {},
   "source": [
    "AdaBoost Regression"
   ]
  },
  {
   "cell_type": "code",
   "execution_count": 46,
   "metadata": {},
   "outputs": [],
   "source": [
    "def AB(F,T):\n",
    "   # features=data.drop(\"Rings\", axis=1)\n",
    "    #target=data[\"Rings\"]\n",
    "    X_train,X_test,Y_train,Y_test = train_test_split(F,T,test_size=0.33,random_state=42)\n",
    "    ModelAB = AdaBoostRegressor()\n",
    "    ModelAB.fit(X_train,Y_train)\n",
    "   # print(\"Test score \"+str(ModelAB.score(X_test, Y_test)))\n",
    "   # print(\"Train score \"+str(ModelAB.score(X_train, Y_train)))\n",
    "    predAB = ModelAB.predict(X_test)\n",
    "    RMSE = np.sqrt(mean_squared_error(Y_test,predAB))\n",
    "   # print(RMSE)\n",
    "    return RMSE "
   ]
  },
  {
   "cell_type": "markdown",
   "metadata": {},
   "source": [
    "Gradient Boosting "
   ]
  },
  {
   "cell_type": "code",
   "execution_count": 47,
   "metadata": {},
   "outputs": [],
   "source": [
    "def GBC(F,T):\n",
    "  # features=data.drop(\"Rings\", axis=1)\n",
    "  # target=data[\"Rings\"]\n",
    "   X_train,X_test,Y_train,Y_test = train_test_split(F,T,test_size=0.33,random_state=42)\n",
    "   from sklearn.ensemble import GradientBoostingClassifier\n",
    "   ModelGBC = GradientBoostingClassifier(random_state=0)\n",
    "   ModelGBC.fit(X_train,Y_train)\n",
    "   #print(\"Test score \"+str(ModelGBC.score(X_test, Y_test)))\n",
    "   #print(\"Train score \"+str(ModelGBC.score(X_train, Y_train)))\n",
    "   predGBC = ModelGBC.predict(X_test)\n",
    "   RMSE = np.sqrt(mean_squared_error(Y_test,predGBC))\n",
    "   #print(RMSE)\n",
    "   return RMSE"
   ]
  },
  {
   "cell_type": "markdown",
   "metadata": {},
   "source": [
    "ORIGINAL DATA "
   ]
  },
  {
   "cell_type": "code",
   "execution_count": 48,
   "metadata": {},
   "outputs": [
    {
     "name": "stdout",
     "output_type": "stream",
     "text": [
      "              Models  Original RMSE\n",
      "0  Linear Regression       2.224529\n",
      "1      Decision Tree       3.006037\n",
      "2      Random Forest       2.355344\n",
      "3                SVR       2.126135\n",
      "4                KNN       2.216134\n",
      "5          Ada Boost       2.925610\n",
      "6           Boosting       2.326245\n",
      "7     Gradient Boost       2.633251\n"
     ]
    }
   ],
   "source": [
    "F=data.drop(\"Rings\", axis=1)\n",
    "T=data[\"Rings\"]\n",
    "ORIGINAL_LR=LR(F,T)\n",
    "ORIGINAL_DT=DT(F,T)\n",
    "ORIGINAL_RF=RF(F,T)\n",
    "ORIGINAL_KNN=KNN(F,T)\n",
    "ORIGINAL_AB=AB(F,T)\n",
    "ORIGINAL_SVR=SV(F,T)\n",
    "ORIGINAL_BC=BC(F,T)\n",
    "ORIGINAL_GBC=GBC(F,T)\n",
    "\n",
    "\n",
    "\n",
    "ORIGINAL = pd.DataFrame({\n",
    "\"Models\" : [\"Linear Regression\", \"Decision Tree\", \"Random Forest\",\"SVR\", \"KNN\", \"Ada Boost\", \"Boosting\", \"Gradient Boost\"],\n",
    "\"Original RMSE\" : [ORIGINAL_LR,ORIGINAL_DT,ORIGINAL_RF,ORIGINAL_SVR,ORIGINAL_KNN,ORIGINAL_AB,ORIGINAL_BC,ORIGINAL_GBC]\n",
    "})\n",
    "\n",
    "print(ORIGINAL)\n",
    "\n"
   ]
  },
  {
   "cell_type": "markdown",
   "metadata": {},
   "source": [
    "Variance Influence Factor"
   ]
  },
  {
   "cell_type": "code",
   "execution_count": 49,
   "metadata": {},
   "outputs": [
    {
     "data": {
      "text/html": [
       "<div>\n",
       "<style scoped>\n",
       "    .dataframe tbody tr th:only-of-type {\n",
       "        vertical-align: middle;\n",
       "    }\n",
       "\n",
       "    .dataframe tbody tr th {\n",
       "        vertical-align: top;\n",
       "    }\n",
       "\n",
       "    .dataframe thead th {\n",
       "        text-align: right;\n",
       "    }\n",
       "</style>\n",
       "<table border=\"1\" class=\"dataframe\">\n",
       "  <thead>\n",
       "    <tr style=\"text-align: right;\">\n",
       "      <th></th>\n",
       "      <th>variables</th>\n",
       "      <th>VIF</th>\n",
       "    </tr>\n",
       "  </thead>\n",
       "  <tbody>\n",
       "    <tr>\n",
       "      <th>0</th>\n",
       "      <td>Length</td>\n",
       "      <td>695.083714</td>\n",
       "    </tr>\n",
       "    <tr>\n",
       "      <th>1</th>\n",
       "      <td>Diameter</td>\n",
       "      <td>748.879248</td>\n",
       "    </tr>\n",
       "    <tr>\n",
       "      <th>2</th>\n",
       "      <td>Height</td>\n",
       "      <td>42.117537</td>\n",
       "    </tr>\n",
       "    <tr>\n",
       "      <th>3</th>\n",
       "      <td>Wweight</td>\n",
       "      <td>421.579746</td>\n",
       "    </tr>\n",
       "    <tr>\n",
       "      <th>4</th>\n",
       "      <td>Sweight</td>\n",
       "      <td>101.575906</td>\n",
       "    </tr>\n",
       "    <tr>\n",
       "      <th>5</th>\n",
       "      <td>Vweight</td>\n",
       "      <td>63.348265</td>\n",
       "    </tr>\n",
       "    <tr>\n",
       "      <th>6</th>\n",
       "      <td>ssweight</td>\n",
       "      <td>81.772105</td>\n",
       "    </tr>\n",
       "  </tbody>\n",
       "</table>\n",
       "</div>"
      ],
      "text/plain": [
       "  variables         VIF\n",
       "0    Length  695.083714\n",
       "1  Diameter  748.879248\n",
       "2    Height   42.117537\n",
       "3   Wweight  421.579746\n",
       "4   Sweight  101.575906\n",
       "5   Vweight   63.348265\n",
       "6  ssweight   81.772105"
      ]
     },
     "execution_count": 49,
     "metadata": {},
     "output_type": "execute_result"
    }
   ],
   "source": [
    "from statsmodels.stats.outliers_influence import variance_inflation_factor\n",
    "\n",
    "def calc_vif(X):\n",
    "\n",
    "    # Calculating VIF\n",
    "    vif = pd.DataFrame()\n",
    "    vif[\"variables\"] = X.columns\n",
    "    vif[\"VIF\"] = [variance_inflation_factor(X.values, i) for i in range(X.shape[1])]\n",
    "\n",
    "    return(vif)\n",
    "X= data.iloc[:,:-1]\n",
    "calc_vif(X)"
   ]
  },
  {
   "cell_type": "code",
   "execution_count": 50,
   "metadata": {},
   "outputs": [],
   "source": [
    "#Diameter has the maximum VIF....let's remove it "
   ]
  },
  {
   "cell_type": "code",
   "execution_count": 51,
   "metadata": {},
   "outputs": [
    {
     "data": {
      "text/html": [
       "<div>\n",
       "<style scoped>\n",
       "    .dataframe tbody tr th:only-of-type {\n",
       "        vertical-align: middle;\n",
       "    }\n",
       "\n",
       "    .dataframe tbody tr th {\n",
       "        vertical-align: top;\n",
       "    }\n",
       "\n",
       "    .dataframe thead th {\n",
       "        text-align: right;\n",
       "    }\n",
       "</style>\n",
       "<table border=\"1\" class=\"dataframe\">\n",
       "  <thead>\n",
       "    <tr style=\"text-align: right;\">\n",
       "      <th></th>\n",
       "      <th>variables</th>\n",
       "      <th>VIF</th>\n",
       "    </tr>\n",
       "  </thead>\n",
       "  <tbody>\n",
       "    <tr>\n",
       "      <th>0</th>\n",
       "      <td>Length</td>\n",
       "      <td>40.828884</td>\n",
       "    </tr>\n",
       "    <tr>\n",
       "      <th>1</th>\n",
       "      <td>Height</td>\n",
       "      <td>41.541446</td>\n",
       "    </tr>\n",
       "    <tr>\n",
       "      <th>2</th>\n",
       "      <td>Wweight</td>\n",
       "      <td>421.315969</td>\n",
       "    </tr>\n",
       "    <tr>\n",
       "      <th>3</th>\n",
       "      <td>Sweight</td>\n",
       "      <td>101.546201</td>\n",
       "    </tr>\n",
       "    <tr>\n",
       "      <th>4</th>\n",
       "      <td>Vweight</td>\n",
       "      <td>63.267967</td>\n",
       "    </tr>\n",
       "    <tr>\n",
       "      <th>5</th>\n",
       "      <td>ssweight</td>\n",
       "      <td>80.738646</td>\n",
       "    </tr>\n",
       "  </tbody>\n",
       "</table>\n",
       "</div>"
      ],
      "text/plain": [
       "  variables         VIF\n",
       "0    Length   40.828884\n",
       "1    Height   41.541446\n",
       "2   Wweight  421.315969\n",
       "3   Sweight  101.546201\n",
       "4   Vweight   63.267967\n",
       "5  ssweight   80.738646"
      ]
     },
     "execution_count": 51,
     "metadata": {},
     "output_type": "execute_result"
    }
   ],
   "source": [
    "X = data.drop(['Diameter','Rings'],axis=1)\n",
    "calc_vif(X)"
   ]
  },
  {
   "cell_type": "code",
   "execution_count": 52,
   "metadata": {},
   "outputs": [],
   "source": [
    "#Let's remove Diameter from the data and try \n"
   ]
  },
  {
   "cell_type": "code",
   "execution_count": 53,
   "metadata": {},
   "outputs": [],
   "source": [
    "Data_WTD=data.drop(\"Diameter\", axis=1)\n"
   ]
  },
  {
   "cell_type": "code",
   "execution_count": 54,
   "metadata": {},
   "outputs": [
    {
     "name": "stdout",
     "output_type": "stream",
     "text": [
      "               Model  Original RMSE  No Diameter RMSE\n",
      "0  Linear Regression       2.224529          2.224529\n",
      "1      Decision Tree       3.006037          2.987890\n",
      "2      Random Forest       2.355344          2.332522\n",
      "3                SVR       2.126135          2.126135\n",
      "4                KNN       2.216134          2.216134\n",
      "5          Ada Boost       2.925610          2.735127\n",
      "6           Boosting       2.326245          2.286028\n",
      "7     Gradient Boost       2.633251          2.633251\n"
     ]
    }
   ],
   "source": [
    "F_WTD=data.drop(\"Rings\", axis=1)\n",
    "T_WTD=data[\"Rings\"]\n",
    "WT_D_LR=LR(F_WTD,T_WTD)\n",
    "WT_D_DT=DT(F_WTD,T_WTD)\n",
    "WT_D_RF=RF(F_WTD,T_WTD)\n",
    "WT_D_KNN=KNN(F_WTD,T_WTD)\n",
    "WT_D_AB=AB(F_WTD,T_WTD)\n",
    "WT_D_SVR=SV(F_WTD,T_WTD)\n",
    "WT_D_BC=BC(F_WTD,T_WTD)\n",
    "WT_D_GBC=GBC(F_WTD,T_WTD)\n",
    "\n",
    "\n",
    "\n",
    "ORIGINAL = pd.DataFrame({\n",
    "\"Model\" : [\"Linear Regression\", \"Decision Tree\", \"Random Forest\",\"SVR\", \"KNN\", \"Ada Boost\", \"Boosting\", \"Gradient Boost\"],\n",
    "\"Original RMSE\" : [ORIGINAL_LR,ORIGINAL_DT,ORIGINAL_RF,ORIGINAL_SVR,ORIGINAL_KNN,ORIGINAL_AB,ORIGINAL_BC,ORIGINAL_GBC],\n",
    "    \"No Diameter RMSE\": [WT_D_LR,WT_D_DT,WT_D_RF,WT_D_SVR,WT_D_KNN,WT_D_AB,WT_D_BC,WT_D_GBC]\n",
    "})\n",
    "\n",
    "print(ORIGINAL)"
   ]
  },
  {
   "cell_type": "code",
   "execution_count": 55,
   "metadata": {},
   "outputs": [],
   "source": [
    "#Remove both Wweight and Diameter for VIF"
   ]
  },
  {
   "cell_type": "code",
   "execution_count": 56,
   "metadata": {},
   "outputs": [
    {
     "data": {
      "text/html": [
       "<div>\n",
       "<style scoped>\n",
       "    .dataframe tbody tr th:only-of-type {\n",
       "        vertical-align: middle;\n",
       "    }\n",
       "\n",
       "    .dataframe tbody tr th {\n",
       "        vertical-align: top;\n",
       "    }\n",
       "\n",
       "    .dataframe thead th {\n",
       "        text-align: right;\n",
       "    }\n",
       "</style>\n",
       "<table border=\"1\" class=\"dataframe\">\n",
       "  <thead>\n",
       "    <tr style=\"text-align: right;\">\n",
       "      <th></th>\n",
       "      <th>variables</th>\n",
       "      <th>VIF</th>\n",
       "    </tr>\n",
       "  </thead>\n",
       "  <tbody>\n",
       "    <tr>\n",
       "      <th>0</th>\n",
       "      <td>Length</td>\n",
       "      <td>40.727775</td>\n",
       "    </tr>\n",
       "    <tr>\n",
       "      <th>1</th>\n",
       "      <td>Height</td>\n",
       "      <td>41.531111</td>\n",
       "    </tr>\n",
       "    <tr>\n",
       "      <th>2</th>\n",
       "      <td>Sweight</td>\n",
       "      <td>29.856146</td>\n",
       "    </tr>\n",
       "    <tr>\n",
       "      <th>3</th>\n",
       "      <td>Vweight</td>\n",
       "      <td>38.029878</td>\n",
       "    </tr>\n",
       "    <tr>\n",
       "      <th>4</th>\n",
       "      <td>ssweight</td>\n",
       "      <td>26.107574</td>\n",
       "    </tr>\n",
       "  </tbody>\n",
       "</table>\n",
       "</div>"
      ],
      "text/plain": [
       "  variables        VIF\n",
       "0    Length  40.727775\n",
       "1    Height  41.531111\n",
       "2   Sweight  29.856146\n",
       "3   Vweight  38.029878\n",
       "4  ssweight  26.107574"
      ]
     },
     "execution_count": 56,
     "metadata": {},
     "output_type": "execute_result"
    }
   ],
   "source": [
    "X = data.drop(['Wweight','Diameter','Rings'],axis=1)\n",
    "calc_vif(X)"
   ]
  },
  {
   "cell_type": "code",
   "execution_count": 57,
   "metadata": {},
   "outputs": [],
   "source": [
    "#Let's remove diameter and Wweight from the data"
   ]
  },
  {
   "cell_type": "code",
   "execution_count": 58,
   "metadata": {},
   "outputs": [],
   "source": [
    "Data_WTDWw=data.drop([\"Diameter\",\"Wweight\"], axis=1)"
   ]
  },
  {
   "cell_type": "code",
   "execution_count": 59,
   "metadata": {},
   "outputs": [
    {
     "name": "stdout",
     "output_type": "stream",
     "text": [
      "               Model  Original RMSE  No Diameter RMSE   No Diameter&WW RMSE \n",
      "0  Linear Regression       2.224529           2.224529              2.224529\n",
      "1      Decision Tree       3.006037           2.987890              3.092600\n",
      "2      Random Forest       2.355344           2.332522              2.287482\n",
      "3                SVR       2.126135           2.126135              2.126135\n",
      "4                KNN       2.216134           2.216134              2.216134\n",
      "5          Ada Boost       2.925610           2.735127              2.832891\n",
      "6           Boosting       2.326245           2.286028              2.260780\n",
      "7     Gradient Boost       2.633251           2.633251              2.633251\n"
     ]
    }
   ],
   "source": [
    "F_WTDww=data.drop(\"Rings\", axis=1)\n",
    "T_WTDww=data[\"Rings\"]\n",
    "\n",
    "WT_DWw_LR=LR(F_WTDww,T_WTDww)\n",
    "WT_DWw_DT=DT(F_WTDww,T_WTDww)\n",
    "WT_DWw_RF=RF(F_WTDww,T_WTDww)\n",
    "WT_DWw_KNN=KNN(F_WTDww,T_WTDww)\n",
    "WT_DWw_AB=AB(F_WTDww,T_WTDww)\n",
    "WT_DWw_SVR=SV(F_WTDww,T_WTDww)\n",
    "WT_DWw_BC=BC(F_WTDww,T_WTDww)\n",
    "WT_DWw_GBC=GBC(F_WTDww,T_WTDww)\n",
    "\n",
    "\n",
    "\n",
    "ORIGINAL = pd.DataFrame({\n",
    "\"Model\" : [\"Linear Regression\", \"Decision Tree\", \"Random Forest\",\"SVR\", \"KNN\", \"Ada Boost\", \"Boosting\", \"Gradient Boost\"],\n",
    "\"Original RMSE\" : [ORIGINAL_LR,ORIGINAL_DT,ORIGINAL_RF,ORIGINAL_SVR,ORIGINAL_KNN,ORIGINAL_AB,ORIGINAL_BC,ORIGINAL_GBC],\n",
    "    \"No Diameter RMSE \": [WT_D_LR,WT_D_DT,WT_D_RF,WT_D_SVR,WT_D_KNN,WT_D_AB,WT_D_BC,WT_D_GBC],\n",
    "    \"No Diameter&WW RMSE \": [WT_DWw_LR,WT_DWw_DT,WT_DWw_RF,WT_DWw_SVR,WT_DWw_KNN,WT_DWw_AB,WT_DWw_BC,WT_DWw_GBC]\n",
    "})\n",
    "\n",
    "print(ORIGINAL)"
   ]
  },
  {
   "cell_type": "code",
   "execution_count": 60,
   "metadata": {},
   "outputs": [],
   "source": [
    "#Feature Selection "
   ]
  },
  {
   "cell_type": "code",
   "execution_count": 61,
   "metadata": {},
   "outputs": [
    {
     "name": "stdout",
     "output_type": "stream",
     "text": [
      "[0.13582714 0.12970519 0.12193892 0.14991124 0.15431737 0.15036405\n",
      " 0.15793608]\n"
     ]
    },
    {
     "data": {
      "image/png": "[encoded data removed]",
      "text/plain": [
       "<Figure size 432x288 with 1 Axes>"
      ]
     },
     "metadata": {
      "needs_background": "light"
     },
     "output_type": "display_data"
    }
   ],
   "source": [
    "features1=data.drop(\"Rings\", axis=1)\n",
    "target1 = data[\"Rings\"] \n",
    "model = ExtraTreesClassifier(n_estimators=100)\n",
    "model.fit(features1,target1)\n",
    "print(model.feature_importances_)\n",
    "feat_importances = pd.Series(model.feature_importances_, index=features1.columns)\n",
    "feat_importances.nlargest(1000).plot(kind='barh')\n",
    "plt.show()"
   ]
  },
  {
   "cell_type": "code",
   "execution_count": 62,
   "metadata": {},
   "outputs": [],
   "source": [
    "#Using Feature Selection for Multiple Regression Analysis "
   ]
  },
  {
   "cell_type": "code",
   "execution_count": 63,
   "metadata": {},
   "outputs": [],
   "source": [
    "def Models(x):\n",
    "    return smf.ols(x,data=data).fit().summary()"
   ]
  },
  {
   "cell_type": "code",
   "execution_count": 64,
   "metadata": {},
   "outputs": [
    {
     "data": {
      "text/html": [
       "<table class=\"simpletable\">\n",
       "<caption>OLS Regression Results</caption>\n",
       "<tr>\n",
       "  <th>Dep. Variable:</th>          <td>Rings</td>      <th>  R-squared:         </th> <td>   0.496</td> \n",
       "</tr>\n",
       "<tr>\n",
       "  <th>Model:</th>                   <td>OLS</td>       <th>  Adj. R-squared:    </th> <td>   0.495</td> \n",
       "</tr>\n",
       "<tr>\n",
       "  <th>Method:</th>             <td>Least Squares</td>  <th>  F-statistic:       </th> <td>   1026.</td> \n",
       "</tr>\n",
       "<tr>\n",
       "  <th>Date:</th>             <td>Mon, 17 Aug 2020</td> <th>  Prob (F-statistic):</th>  <td>  0.00</td>  \n",
       "</tr>\n",
       "<tr>\n",
       "  <th>Time:</th>                 <td>20:46:40</td>     <th>  Log-Likelihood:    </th> <td> -9386.2</td> \n",
       "</tr>\n",
       "<tr>\n",
       "  <th>No. Observations:</th>      <td>  4177</td>      <th>  AIC:               </th> <td>1.878e+04</td>\n",
       "</tr>\n",
       "<tr>\n",
       "  <th>Df Residuals:</th>          <td>  4172</td>      <th>  BIC:               </th> <td>1.881e+04</td>\n",
       "</tr>\n",
       "<tr>\n",
       "  <th>Df Model:</th>              <td>     4</td>      <th>                     </th>     <td> </td>    \n",
       "</tr>\n",
       "<tr>\n",
       "  <th>Covariance Type:</th>      <td>nonrobust</td>    <th>                     </th>     <td> </td>    \n",
       "</tr>\n",
       "</table>\n",
       "<table class=\"simpletable\">\n",
       "<tr>\n",
       "      <td></td>         <th>coef</th>     <th>std err</th>      <th>t</th>      <th>P>|t|</th>  <th>[0.025</th>    <th>0.975]</th>  \n",
       "</tr>\n",
       "<tr>\n",
       "  <th>Intercept</th> <td>    6.7299</td> <td>    0.071</td> <td>   94.591</td> <td> 0.000</td> <td>    6.590</td> <td>    6.869</td>\n",
       "</tr>\n",
       "<tr>\n",
       "  <th>Vweight</th>   <td>   -6.9888</td> <td>    1.329</td> <td>   -5.259</td> <td> 0.000</td> <td>   -9.594</td> <td>   -4.384</td>\n",
       "</tr>\n",
       "<tr>\n",
       "  <th>Wweight</th>   <td>    9.7624</td> <td>    0.756</td> <td>   12.914</td> <td> 0.000</td> <td>    8.280</td> <td>   11.244</td>\n",
       "</tr>\n",
       "<tr>\n",
       "  <th>Sweight</th>   <td>  -19.0166</td> <td>    0.841</td> <td>  -22.613</td> <td> 0.000</td> <td>  -20.665</td> <td>  -17.368</td>\n",
       "</tr>\n",
       "<tr>\n",
       "  <th>ssweight</th>  <td>   13.4380</td> <td>    1.135</td> <td>   11.841</td> <td> 0.000</td> <td>   11.213</td> <td>   15.663</td>\n",
       "</tr>\n",
       "</table>\n",
       "<table class=\"simpletable\">\n",
       "<tr>\n",
       "  <th>Omnibus:</th>       <td>848.651</td> <th>  Durbin-Watson:     </th> <td>   1.344</td>\n",
       "</tr>\n",
       "<tr>\n",
       "  <th>Prob(Omnibus):</th> <td> 0.000</td>  <th>  Jarque-Bera (JB):  </th> <td>2263.548</td>\n",
       "</tr>\n",
       "<tr>\n",
       "  <th>Skew:</th>          <td> 1.086</td>  <th>  Prob(JB):          </th> <td>    0.00</td>\n",
       "</tr>\n",
       "<tr>\n",
       "  <th>Kurtosis:</th>      <td> 5.879</td>  <th>  Cond. No.          </th> <td>    67.8</td>\n",
       "</tr>\n",
       "</table><br/><br/>Warnings:<br/>[1] Standard Errors assume that the covariance matrix of the errors is correctly specified."
      ],
      "text/plain": [
       "<class 'statsmodels.iolib.summary.Summary'>\n",
       "\"\"\"\n",
       "                            OLS Regression Results                            \n",
       "==============================================================================\n",
       "Dep. Variable:                  Rings   R-squared:                       0.496\n",
       "Model:                            OLS   Adj. R-squared:                  0.495\n",
       "Method:                 Least Squares   F-statistic:                     1026.\n",
       "Date:                Mon, 17 Aug 2020   Prob (F-statistic):               0.00\n",
       "Time:                        20:46:40   Log-Likelihood:                -9386.2\n",
       "No. Observations:                4177   AIC:                         1.878e+04\n",
       "Df Residuals:                    4172   BIC:                         1.881e+04\n",
       "Df Model:                           4                                         \n",
       "Covariance Type:            nonrobust                                         \n",
       "==============================================================================\n",
       "                 coef    std err          t      P>|t|      [0.025      0.975]\n",
       "------------------------------------------------------------------------------\n",
       "Intercept      6.7299      0.071     94.591      0.000       6.590       6.869\n",
       "Vweight       -6.9888      1.329     -5.259      0.000      -9.594      -4.384\n",
       "Wweight        9.7624      0.756     12.914      0.000       8.280      11.244\n",
       "Sweight      -19.0166      0.841    -22.613      0.000     -20.665     -17.368\n",
       "ssweight      13.4380      1.135     11.841      0.000      11.213      15.663\n",
       "==============================================================================\n",
       "Omnibus:                      848.651   Durbin-Watson:                   1.344\n",
       "Prob(Omnibus):                  0.000   Jarque-Bera (JB):             2263.548\n",
       "Skew:                           1.086   Prob(JB):                         0.00\n",
       "Kurtosis:                       5.879   Cond. No.                         67.8\n",
       "==============================================================================\n",
       "\n",
       "Warnings:\n",
       "[1] Standard Errors assume that the covariance matrix of the errors is correctly specified.\n",
       "\"\"\""
      ]
     },
     "execution_count": 64,
     "metadata": {},
     "output_type": "execute_result"
    }
   ],
   "source": [
    "y='Rings~Vweight+Wweight+Sweight+ssweight'\n",
    "Models(y)"
   ]
  },
  {
   "cell_type": "code",
   "execution_count": 65,
   "metadata": {},
   "outputs": [
    {
     "data": {
      "text/html": [
       "<table class=\"simpletable\">\n",
       "<caption>OLS Regression Results</caption>\n",
       "<tr>\n",
       "  <th>Dep. Variable:</th>          <td>Rings</td>      <th>  R-squared:         </th> <td>   0.394</td> \n",
       "</tr>\n",
       "<tr>\n",
       "  <th>Model:</th>                   <td>OLS</td>       <th>  Adj. R-squared:    </th> <td>   0.394</td> \n",
       "</tr>\n",
       "<tr>\n",
       "  <th>Method:</th>             <td>Least Squares</td>  <th>  F-statistic:       </th> <td>   2713.</td> \n",
       "</tr>\n",
       "<tr>\n",
       "  <th>Date:</th>             <td>Mon, 17 Aug 2020</td> <th>  Prob (F-statistic):</th>  <td>  0.00</td>  \n",
       "</tr>\n",
       "<tr>\n",
       "  <th>Time:</th>                 <td>20:46:40</td>     <th>  Log-Likelihood:    </th> <td> -9770.8</td> \n",
       "</tr>\n",
       "<tr>\n",
       "  <th>No. Observations:</th>      <td>  4177</td>      <th>  AIC:               </th> <td>1.955e+04</td>\n",
       "</tr>\n",
       "<tr>\n",
       "  <th>Df Residuals:</th>          <td>  4175</td>      <th>  BIC:               </th> <td>1.956e+04</td>\n",
       "</tr>\n",
       "<tr>\n",
       "  <th>Df Model:</th>              <td>     1</td>      <th>                     </th>     <td> </td>    \n",
       "</tr>\n",
       "<tr>\n",
       "  <th>Covariance Type:</th>      <td>nonrobust</td>    <th>                     </th>     <td> </td>    \n",
       "</tr>\n",
       "</table>\n",
       "<table class=\"simpletable\">\n",
       "<tr>\n",
       "      <td></td>         <th>coef</th>     <th>std err</th>      <th>t</th>      <th>P>|t|</th>  <th>[0.025</th>    <th>0.975]</th>  \n",
       "</tr>\n",
       "<tr>\n",
       "  <th>Intercept</th> <td>    6.4621</td> <td>    0.077</td> <td>   83.764</td> <td> 0.000</td> <td>    6.311</td> <td>    6.613</td>\n",
       "</tr>\n",
       "<tr>\n",
       "  <th>ssweight</th>  <td>   14.5357</td> <td>    0.279</td> <td>   52.084</td> <td> 0.000</td> <td>   13.989</td> <td>   15.083</td>\n",
       "</tr>\n",
       "</table>\n",
       "<table class=\"simpletable\">\n",
       "<tr>\n",
       "  <th>Omnibus:</th>       <td>1213.646</td> <th>  Durbin-Watson:     </th> <td>   1.016</td>\n",
       "</tr>\n",
       "<tr>\n",
       "  <th>Prob(Omnibus):</th>  <td> 0.000</td>  <th>  Jarque-Bera (JB):  </th> <td>3601.423</td>\n",
       "</tr>\n",
       "<tr>\n",
       "  <th>Skew:</th>           <td> 1.503</td>  <th>  Prob(JB):          </th> <td>    0.00</td>\n",
       "</tr>\n",
       "<tr>\n",
       "  <th>Kurtosis:</th>       <td> 6.414</td>  <th>  Cond. No.          </th> <td>    7.60</td>\n",
       "</tr>\n",
       "</table><br/><br/>Warnings:<br/>[1] Standard Errors assume that the covariance matrix of the errors is correctly specified."
      ],
      "text/plain": [
       "<class 'statsmodels.iolib.summary.Summary'>\n",
       "\"\"\"\n",
       "                            OLS Regression Results                            \n",
       "==============================================================================\n",
       "Dep. Variable:                  Rings   R-squared:                       0.394\n",
       "Model:                            OLS   Adj. R-squared:                  0.394\n",
       "Method:                 Least Squares   F-statistic:                     2713.\n",
       "Date:                Mon, 17 Aug 2020   Prob (F-statistic):               0.00\n",
       "Time:                        20:46:40   Log-Likelihood:                -9770.8\n",
       "No. Observations:                4177   AIC:                         1.955e+04\n",
       "Df Residuals:                    4175   BIC:                         1.956e+04\n",
       "Df Model:                           1                                         \n",
       "Covariance Type:            nonrobust                                         \n",
       "==============================================================================\n",
       "                 coef    std err          t      P>|t|      [0.025      0.975]\n",
       "------------------------------------------------------------------------------\n",
       "Intercept      6.4621      0.077     83.764      0.000       6.311       6.613\n",
       "ssweight      14.5357      0.279     52.084      0.000      13.989      15.083\n",
       "==============================================================================\n",
       "Omnibus:                     1213.646   Durbin-Watson:                   1.016\n",
       "Prob(Omnibus):                  0.000   Jarque-Bera (JB):             3601.423\n",
       "Skew:                           1.503   Prob(JB):                         0.00\n",
       "Kurtosis:                       6.414   Cond. No.                         7.60\n",
       "==============================================================================\n",
       "\n",
       "Warnings:\n",
       "[1] Standard Errors assume that the covariance matrix of the errors is correctly specified.\n",
       "\"\"\""
      ]
     },
     "execution_count": 65,
     "metadata": {},
     "output_type": "execute_result"
    }
   ],
   "source": [
    "y='Rings~ssweight'\n",
    "Models(y)"
   ]
  },
  {
   "cell_type": "code",
   "execution_count": 66,
   "metadata": {},
   "outputs": [
    {
     "data": {
      "text/html": [
       "<table class=\"simpletable\">\n",
       "<caption>OLS Regression Results</caption>\n",
       "<tr>\n",
       "  <th>Dep. Variable:</th>          <td>Rings</td>      <th>  R-squared:         </th> <td>   0.479</td> \n",
       "</tr>\n",
       "<tr>\n",
       "  <th>Model:</th>                   <td>OLS</td>       <th>  Adj. R-squared:    </th> <td>   0.478</td> \n",
       "</tr>\n",
       "<tr>\n",
       "  <th>Method:</th>             <td>Least Squares</td>  <th>  F-statistic:       </th> <td>   1278.</td> \n",
       "</tr>\n",
       "<tr>\n",
       "  <th>Date:</th>             <td>Mon, 17 Aug 2020</td> <th>  Prob (F-statistic):</th>  <td>  0.00</td>  \n",
       "</tr>\n",
       "<tr>\n",
       "  <th>Time:</th>                 <td>20:46:40</td>     <th>  Log-Likelihood:    </th> <td> -9455.3</td> \n",
       "</tr>\n",
       "<tr>\n",
       "  <th>No. Observations:</th>      <td>  4177</td>      <th>  AIC:               </th> <td>1.892e+04</td>\n",
       "</tr>\n",
       "<tr>\n",
       "  <th>Df Residuals:</th>          <td>  4173</td>      <th>  BIC:               </th> <td>1.894e+04</td>\n",
       "</tr>\n",
       "<tr>\n",
       "  <th>Df Model:</th>              <td>     3</td>      <th>                     </th>     <td> </td>    \n",
       "</tr>\n",
       "<tr>\n",
       "  <th>Covariance Type:</th>      <td>nonrobust</td>    <th>                     </th>     <td> </td>    \n",
       "</tr>\n",
       "</table>\n",
       "<table class=\"simpletable\">\n",
       "<tr>\n",
       "      <td></td>         <th>coef</th>     <th>std err</th>      <th>t</th>      <th>P>|t|</th>  <th>[0.025</th>    <th>0.975]</th>  \n",
       "</tr>\n",
       "<tr>\n",
       "  <th>Intercept</th> <td>    6.9001</td> <td>    0.071</td> <td>   97.417</td> <td> 0.000</td> <td>    6.761</td> <td>    7.039</td>\n",
       "</tr>\n",
       "<tr>\n",
       "  <th>Vweight</th>   <td>  -11.9416</td> <td>    1.282</td> <td>   -9.314</td> <td> 0.000</td> <td>  -14.455</td> <td>   -9.428</td>\n",
       "</tr>\n",
       "<tr>\n",
       "  <th>Wweight</th>   <td>   17.2331</td> <td>    0.423</td> <td>   40.711</td> <td> 0.000</td> <td>   16.403</td> <td>   18.063</td>\n",
       "</tr>\n",
       "<tr>\n",
       "  <th>Sweight</th>   <td>  -25.2991</td> <td>    0.663</td> <td>  -38.142</td> <td> 0.000</td> <td>  -26.599</td> <td>  -23.999</td>\n",
       "</tr>\n",
       "</table>\n",
       "<table class=\"simpletable\">\n",
       "<tr>\n",
       "  <th>Omnibus:</th>       <td>826.920</td> <th>  Durbin-Watson:     </th> <td>   1.325</td>\n",
       "</tr>\n",
       "<tr>\n",
       "  <th>Prob(Omnibus):</th> <td> 0.000</td>  <th>  Jarque-Bera (JB):  </th> <td>2157.207</td>\n",
       "</tr>\n",
       "<tr>\n",
       "  <th>Skew:</th>          <td> 1.068</td>  <th>  Prob(JB):          </th> <td>    0.00</td>\n",
       "</tr>\n",
       "<tr>\n",
       "  <th>Kurtosis:</th>      <td> 5.799</td>  <th>  Cond. No.          </th> <td>    51.9</td>\n",
       "</tr>\n",
       "</table><br/><br/>Warnings:<br/>[1] Standard Errors assume that the covariance matrix of the errors is correctly specified."
      ],
      "text/plain": [
       "<class 'statsmodels.iolib.summary.Summary'>\n",
       "\"\"\"\n",
       "                            OLS Regression Results                            \n",
       "==============================================================================\n",
       "Dep. Variable:                  Rings   R-squared:                       0.479\n",
       "Model:                            OLS   Adj. R-squared:                  0.478\n",
       "Method:                 Least Squares   F-statistic:                     1278.\n",
       "Date:                Mon, 17 Aug 2020   Prob (F-statistic):               0.00\n",
       "Time:                        20:46:40   Log-Likelihood:                -9455.3\n",
       "No. Observations:                4177   AIC:                         1.892e+04\n",
       "Df Residuals:                    4173   BIC:                         1.894e+04\n",
       "Df Model:                           3                                         \n",
       "Covariance Type:            nonrobust                                         \n",
       "==============================================================================\n",
       "                 coef    std err          t      P>|t|      [0.025      0.975]\n",
       "------------------------------------------------------------------------------\n",
       "Intercept      6.9001      0.071     97.417      0.000       6.761       7.039\n",
       "Vweight      -11.9416      1.282     -9.314      0.000     -14.455      -9.428\n",
       "Wweight       17.2331      0.423     40.711      0.000      16.403      18.063\n",
       "Sweight      -25.2991      0.663    -38.142      0.000     -26.599     -23.999\n",
       "==============================================================================\n",
       "Omnibus:                      826.920   Durbin-Watson:                   1.325\n",
       "Prob(Omnibus):                  0.000   Jarque-Bera (JB):             2157.207\n",
       "Skew:                           1.068   Prob(JB):                         0.00\n",
       "Kurtosis:                       5.799   Cond. No.                         51.9\n",
       "==============================================================================\n",
       "\n",
       "Warnings:\n",
       "[1] Standard Errors assume that the covariance matrix of the errors is correctly specified.\n",
       "\"\"\""
      ]
     },
     "execution_count": 66,
     "metadata": {},
     "output_type": "execute_result"
    }
   ],
   "source": [
    "y='Rings~Vweight+Wweight+Sweight'\n",
    "Models(y)"
   ]
  },
  {
   "cell_type": "code",
   "execution_count": 67,
   "metadata": {},
   "outputs": [
    {
     "data": {
      "text/html": [
       "<table class=\"simpletable\">\n",
       "<caption>OLS Regression Results</caption>\n",
       "<tr>\n",
       "  <th>Dep. Variable:</th>          <td>Rings</td>      <th>  R-squared:         </th> <td>   0.503</td> \n",
       "</tr>\n",
       "<tr>\n",
       "  <th>Model:</th>                   <td>OLS</td>       <th>  Adj. R-squared:    </th> <td>   0.502</td> \n",
       "</tr>\n",
       "<tr>\n",
       "  <th>Method:</th>             <td>Least Squares</td>  <th>  F-statistic:       </th> <td>   842.6</td> \n",
       "</tr>\n",
       "<tr>\n",
       "  <th>Date:</th>             <td>Mon, 17 Aug 2020</td> <th>  Prob (F-statistic):</th>  <td>  0.00</td>  \n",
       "</tr>\n",
       "<tr>\n",
       "  <th>Time:</th>                 <td>20:46:40</td>     <th>  Log-Likelihood:    </th> <td> -9358.2</td> \n",
       "</tr>\n",
       "<tr>\n",
       "  <th>No. Observations:</th>      <td>  4177</td>      <th>  AIC:               </th> <td>1.873e+04</td>\n",
       "</tr>\n",
       "<tr>\n",
       "  <th>Df Residuals:</th>          <td>  4171</td>      <th>  BIC:               </th> <td>1.877e+04</td>\n",
       "</tr>\n",
       "<tr>\n",
       "  <th>Df Model:</th>              <td>     5</td>      <th>                     </th>     <td> </td>    \n",
       "</tr>\n",
       "<tr>\n",
       "  <th>Covariance Type:</th>      <td>nonrobust</td>    <th>                     </th>     <td> </td>    \n",
       "</tr>\n",
       "</table>\n",
       "<table class=\"simpletable\">\n",
       "<tr>\n",
       "      <td></td>         <th>coef</th>     <th>std err</th>      <th>t</th>      <th>P>|t|</th>  <th>[0.025</th>    <th>0.975]</th>  \n",
       "</tr>\n",
       "<tr>\n",
       "  <th>Intercept</th> <td>    3.1440</td> <td>    0.272</td> <td>   11.542</td> <td> 0.000</td> <td>    2.610</td> <td>    3.678</td>\n",
       "</tr>\n",
       "<tr>\n",
       "  <th>Sweight</th>   <td>  -11.7161</td> <td>    0.472</td> <td>  -24.836</td> <td> 0.000</td> <td>  -12.641</td> <td>  -10.791</td>\n",
       "</tr>\n",
       "<tr>\n",
       "  <th>Vweight</th>   <td>    0.9978</td> <td>    1.047</td> <td>    0.953</td> <td> 0.341</td> <td>   -1.056</td> <td>    3.051</td>\n",
       "</tr>\n",
       "<tr>\n",
       "  <th>ssweight</th>  <td>   21.0710</td> <td>    0.693</td> <td>   30.403</td> <td> 0.000</td> <td>   19.712</td> <td>   22.430</td>\n",
       "</tr>\n",
       "<tr>\n",
       "  <th>Length</th>    <td>   -1.5047</td> <td>    1.871</td> <td>   -0.804</td> <td> 0.421</td> <td>   -5.174</td> <td>    2.164</td>\n",
       "</tr>\n",
       "<tr>\n",
       "  <th>Diameter</th>  <td>   16.1222</td> <td>    2.279</td> <td>    7.075</td> <td> 0.000</td> <td>   11.654</td> <td>   20.590</td>\n",
       "</tr>\n",
       "</table>\n",
       "<table class=\"simpletable\">\n",
       "<tr>\n",
       "  <th>Omnibus:</th>       <td>1062.625</td> <th>  Durbin-Watson:     </th> <td>   1.349</td>\n",
       "</tr>\n",
       "<tr>\n",
       "  <th>Prob(Omnibus):</th>  <td> 0.000</td>  <th>  Jarque-Bera (JB):  </th> <td>3151.866</td>\n",
       "</tr>\n",
       "<tr>\n",
       "  <th>Skew:</th>           <td> 1.310</td>  <th>  Prob(JB):          </th> <td>    0.00</td>\n",
       "</tr>\n",
       "<tr>\n",
       "  <th>Kurtosis:</th>       <td> 6.354</td>  <th>  Cond. No.          </th> <td>    107.</td>\n",
       "</tr>\n",
       "</table><br/><br/>Warnings:<br/>[1] Standard Errors assume that the covariance matrix of the errors is correctly specified."
      ],
      "text/plain": [
       "<class 'statsmodels.iolib.summary.Summary'>\n",
       "\"\"\"\n",
       "                            OLS Regression Results                            \n",
       "==============================================================================\n",
       "Dep. Variable:                  Rings   R-squared:                       0.503\n",
       "Model:                            OLS   Adj. R-squared:                  0.502\n",
       "Method:                 Least Squares   F-statistic:                     842.6\n",
       "Date:                Mon, 17 Aug 2020   Prob (F-statistic):               0.00\n",
       "Time:                        20:46:40   Log-Likelihood:                -9358.2\n",
       "No. Observations:                4177   AIC:                         1.873e+04\n",
       "Df Residuals:                    4171   BIC:                         1.877e+04\n",
       "Df Model:                           5                                         \n",
       "Covariance Type:            nonrobust                                         \n",
       "==============================================================================\n",
       "                 coef    std err          t      P>|t|      [0.025      0.975]\n",
       "------------------------------------------------------------------------------\n",
       "Intercept      3.1440      0.272     11.542      0.000       2.610       3.678\n",
       "Sweight      -11.7161      0.472    -24.836      0.000     -12.641     -10.791\n",
       "Vweight        0.9978      1.047      0.953      0.341      -1.056       3.051\n",
       "ssweight      21.0710      0.693     30.403      0.000      19.712      22.430\n",
       "Length        -1.5047      1.871     -0.804      0.421      -5.174       2.164\n",
       "Diameter      16.1222      2.279      7.075      0.000      11.654      20.590\n",
       "==============================================================================\n",
       "Omnibus:                     1062.625   Durbin-Watson:                   1.349\n",
       "Prob(Omnibus):                  0.000   Jarque-Bera (JB):             3151.866\n",
       "Skew:                           1.310   Prob(JB):                         0.00\n",
       "Kurtosis:                       6.354   Cond. No.                         107.\n",
       "==============================================================================\n",
       "\n",
       "Warnings:\n",
       "[1] Standard Errors assume that the covariance matrix of the errors is correctly specified.\n",
       "\"\"\""
      ]
     },
     "execution_count": 67,
     "metadata": {},
     "output_type": "execute_result"
    }
   ],
   "source": [
    "z='Rings~Sweight+Vweight+ssweight+Length+Diameter'\n",
    "Models(z)"
   ]
  },
  {
   "cell_type": "code",
   "execution_count": 68,
   "metadata": {},
   "outputs": [
    {
     "data": {
      "text/html": [
       "<table class=\"simpletable\">\n",
       "<caption>OLS Regression Results</caption>\n",
       "<tr>\n",
       "  <th>Dep. Variable:</th>          <td>Rings</td>      <th>  R-squared:         </th> <td>   0.311</td> \n",
       "</tr>\n",
       "<tr>\n",
       "  <th>Model:</th>                   <td>OLS</td>       <th>  Adj. R-squared:    </th> <td>   0.311</td> \n",
       "</tr>\n",
       "<tr>\n",
       "  <th>Method:</th>             <td>Least Squares</td>  <th>  F-statistic:       </th> <td>   1882.</td> \n",
       "</tr>\n",
       "<tr>\n",
       "  <th>Date:</th>             <td>Mon, 17 Aug 2020</td> <th>  Prob (F-statistic):</th>  <td>  0.00</td>  \n",
       "</tr>\n",
       "<tr>\n",
       "  <th>Time:</th>                 <td>20:46:40</td>     <th>  Log-Likelihood:    </th> <td> -10039.</td> \n",
       "</tr>\n",
       "<tr>\n",
       "  <th>No. Observations:</th>      <td>  4177</td>      <th>  AIC:               </th> <td>2.008e+04</td>\n",
       "</tr>\n",
       "<tr>\n",
       "  <th>Df Residuals:</th>          <td>  4175</td>      <th>  BIC:               </th> <td>2.009e+04</td>\n",
       "</tr>\n",
       "<tr>\n",
       "  <th>Df Model:</th>              <td>     1</td>      <th>                     </th>     <td> </td>    \n",
       "</tr>\n",
       "<tr>\n",
       "  <th>Covariance Type:</th>      <td>nonrobust</td>    <th>                     </th>     <td> </td>    \n",
       "</tr>\n",
       "</table>\n",
       "<table class=\"simpletable\">\n",
       "<tr>\n",
       "      <td></td>         <th>coef</th>     <th>std err</th>      <th>t</th>      <th>P>|t|</th>  <th>[0.025</th>    <th>0.975]</th>  \n",
       "</tr>\n",
       "<tr>\n",
       "  <th>Intercept</th> <td>    3.9385</td> <td>    0.144</td> <td>   27.302</td> <td> 0.000</td> <td>    3.656</td> <td>    4.221</td>\n",
       "</tr>\n",
       "<tr>\n",
       "  <th>Height</th>    <td>   42.9714</td> <td>    0.990</td> <td>   43.388</td> <td> 0.000</td> <td>   41.030</td> <td>   44.913</td>\n",
       "</tr>\n",
       "</table>\n",
       "<table class=\"simpletable\">\n",
       "<tr>\n",
       "  <th>Omnibus:</th>       <td>1152.248</td> <th>  Durbin-Watson:     </th> <td>   1.136</td> \n",
       "</tr>\n",
       "<tr>\n",
       "  <th>Prob(Omnibus):</th>  <td> 0.000</td>  <th>  Jarque-Bera (JB):  </th> <td>80909.975</td>\n",
       "</tr>\n",
       "<tr>\n",
       "  <th>Skew:</th>           <td> 0.369</td>  <th>  Prob(JB):          </th> <td>    0.00</td> \n",
       "</tr>\n",
       "<tr>\n",
       "  <th>Kurtosis:</th>       <td>24.549</td>  <th>  Cond. No.          </th> <td>    24.4</td> \n",
       "</tr>\n",
       "</table><br/><br/>Warnings:<br/>[1] Standard Errors assume that the covariance matrix of the errors is correctly specified."
      ],
      "text/plain": [
       "<class 'statsmodels.iolib.summary.Summary'>\n",
       "\"\"\"\n",
       "                            OLS Regression Results                            \n",
       "==============================================================================\n",
       "Dep. Variable:                  Rings   R-squared:                       0.311\n",
       "Model:                            OLS   Adj. R-squared:                  0.311\n",
       "Method:                 Least Squares   F-statistic:                     1882.\n",
       "Date:                Mon, 17 Aug 2020   Prob (F-statistic):               0.00\n",
       "Time:                        20:46:40   Log-Likelihood:                -10039.\n",
       "No. Observations:                4177   AIC:                         2.008e+04\n",
       "Df Residuals:                    4175   BIC:                         2.009e+04\n",
       "Df Model:                           1                                         \n",
       "Covariance Type:            nonrobust                                         \n",
       "==============================================================================\n",
       "                 coef    std err          t      P>|t|      [0.025      0.975]\n",
       "------------------------------------------------------------------------------\n",
       "Intercept      3.9385      0.144     27.302      0.000       3.656       4.221\n",
       "Height        42.9714      0.990     43.388      0.000      41.030      44.913\n",
       "==============================================================================\n",
       "Omnibus:                     1152.248   Durbin-Watson:                   1.136\n",
       "Prob(Omnibus):                  0.000   Jarque-Bera (JB):            80909.975\n",
       "Skew:                           0.369   Prob(JB):                         0.00\n",
       "Kurtosis:                      24.549   Cond. No.                         24.4\n",
       "==============================================================================\n",
       "\n",
       "Warnings:\n",
       "[1] Standard Errors assume that the covariance matrix of the errors is correctly specified.\n",
       "\"\"\""
      ]
     },
     "execution_count": 68,
     "metadata": {},
     "output_type": "execute_result"
    }
   ],
   "source": [
    "z='Rings~Height'\n",
    "Models(z)"
   ]
  },
  {
   "cell_type": "code",
   "execution_count": 69,
   "metadata": {},
   "outputs": [
    {
     "data": {
      "text/html": [
       "<table class=\"simpletable\">\n",
       "<caption>OLS Regression Results</caption>\n",
       "<tr>\n",
       "  <th>Dep. Variable:</th>          <td>Rings</td>      <th>  R-squared:         </th> <td>   0.497</td> \n",
       "</tr>\n",
       "<tr>\n",
       "  <th>Model:</th>                   <td>OLS</td>       <th>  Adj. R-squared:    </th> <td>   0.496</td> \n",
       "</tr>\n",
       "<tr>\n",
       "  <th>Method:</th>             <td>Least Squares</td>  <th>  F-statistic:       </th> <td>   1029.</td> \n",
       "</tr>\n",
       "<tr>\n",
       "  <th>Date:</th>             <td>Mon, 17 Aug 2020</td> <th>  Prob (F-statistic):</th>  <td>  0.00</td>  \n",
       "</tr>\n",
       "<tr>\n",
       "  <th>Time:</th>                 <td>20:46:40</td>     <th>  Log-Likelihood:    </th> <td> -9383.1</td> \n",
       "</tr>\n",
       "<tr>\n",
       "  <th>No. Observations:</th>      <td>  4177</td>      <th>  AIC:               </th> <td>1.878e+04</td>\n",
       "</tr>\n",
       "<tr>\n",
       "  <th>Df Residuals:</th>          <td>  4172</td>      <th>  BIC:               </th> <td>1.881e+04</td>\n",
       "</tr>\n",
       "<tr>\n",
       "  <th>Df Model:</th>              <td>     4</td>      <th>                     </th>     <td> </td>    \n",
       "</tr>\n",
       "<tr>\n",
       "  <th>Covariance Type:</th>      <td>nonrobust</td>    <th>                     </th>     <td> </td>    \n",
       "</tr>\n",
       "</table>\n",
       "<table class=\"simpletable\">\n",
       "<tr>\n",
       "      <td></td>         <th>coef</th>     <th>std err</th>      <th>t</th>      <th>P>|t|</th>  <th>[0.025</th>    <th>0.975]</th>  \n",
       "</tr>\n",
       "<tr>\n",
       "  <th>Intercept</th> <td>    3.1694</td> <td>    0.274</td> <td>   11.568</td> <td> 0.000</td> <td>    2.632</td> <td>    3.707</td>\n",
       "</tr>\n",
       "<tr>\n",
       "  <th>Sweight</th>   <td>  -11.7102</td> <td>    0.474</td> <td>  -24.679</td> <td> 0.000</td> <td>  -12.640</td> <td>  -10.780</td>\n",
       "</tr>\n",
       "<tr>\n",
       "  <th>Vweight</th>   <td>    0.8714</td> <td>    1.053</td> <td>    0.827</td> <td> 0.408</td> <td>   -1.194</td> <td>    2.937</td>\n",
       "</tr>\n",
       "<tr>\n",
       "  <th>ssweight</th>  <td>   22.2694</td> <td>    0.676</td> <td>   32.944</td> <td> 0.000</td> <td>   20.944</td> <td>   23.595</td>\n",
       "</tr>\n",
       "<tr>\n",
       "  <th>Length</th>    <td>   10.4897</td> <td>    0.797</td> <td>   13.164</td> <td> 0.000</td> <td>    8.927</td> <td>   12.052</td>\n",
       "</tr>\n",
       "</table>\n",
       "<table class=\"simpletable\">\n",
       "<tr>\n",
       "  <th>Omnibus:</th>       <td>1069.660</td> <th>  Durbin-Watson:     </th> <td>   1.337</td>\n",
       "</tr>\n",
       "<tr>\n",
       "  <th>Prob(Omnibus):</th>  <td> 0.000</td>  <th>  Jarque-Bera (JB):  </th> <td>3225.402</td>\n",
       "</tr>\n",
       "<tr>\n",
       "  <th>Skew:</th>           <td> 1.312</td>  <th>  Prob(JB):          </th> <td>    0.00</td>\n",
       "</tr>\n",
       "<tr>\n",
       "  <th>Kurtosis:</th>       <td> 6.412</td>  <th>  Cond. No.          </th> <td>    39.3</td>\n",
       "</tr>\n",
       "</table><br/><br/>Warnings:<br/>[1] Standard Errors assume that the covariance matrix of the errors is correctly specified."
      ],
      "text/plain": [
       "<class 'statsmodels.iolib.summary.Summary'>\n",
       "\"\"\"\n",
       "                            OLS Regression Results                            \n",
       "==============================================================================\n",
       "Dep. Variable:                  Rings   R-squared:                       0.497\n",
       "Model:                            OLS   Adj. R-squared:                  0.496\n",
       "Method:                 Least Squares   F-statistic:                     1029.\n",
       "Date:                Mon, 17 Aug 2020   Prob (F-statistic):               0.00\n",
       "Time:                        20:46:40   Log-Likelihood:                -9383.1\n",
       "No. Observations:                4177   AIC:                         1.878e+04\n",
       "Df Residuals:                    4172   BIC:                         1.881e+04\n",
       "Df Model:                           4                                         \n",
       "Covariance Type:            nonrobust                                         \n",
       "==============================================================================\n",
       "                 coef    std err          t      P>|t|      [0.025      0.975]\n",
       "------------------------------------------------------------------------------\n",
       "Intercept      3.1694      0.274     11.568      0.000       2.632       3.707\n",
       "Sweight      -11.7102      0.474    -24.679      0.000     -12.640     -10.780\n",
       "Vweight        0.8714      1.053      0.827      0.408      -1.194       2.937\n",
       "ssweight      22.2694      0.676     32.944      0.000      20.944      23.595\n",
       "Length        10.4897      0.797     13.164      0.000       8.927      12.052\n",
       "==============================================================================\n",
       "Omnibus:                     1069.660   Durbin-Watson:                   1.337\n",
       "Prob(Omnibus):                  0.000   Jarque-Bera (JB):             3225.402\n",
       "Skew:                           1.312   Prob(JB):                         0.00\n",
       "Kurtosis:                       6.412   Cond. No.                         39.3\n",
       "==============================================================================\n",
       "\n",
       "Warnings:\n",
       "[1] Standard Errors assume that the covariance matrix of the errors is correctly specified.\n",
       "\"\"\""
      ]
     },
     "execution_count": 69,
     "metadata": {},
     "output_type": "execute_result"
    }
   ],
   "source": [
    "z='Rings~Sweight+Vweight+ssweight+Length'\n",
    "Models(z)"
   ]
  },
  {
   "cell_type": "code",
   "execution_count": 70,
   "metadata": {},
   "outputs": [
    {
     "data": {
      "text/html": [
       "<table class=\"simpletable\">\n",
       "<caption>OLS Regression Results</caption>\n",
       "<tr>\n",
       "  <th>Dep. Variable:</th>          <td>Rings</td>      <th>  R-squared:         </th> <td>   0.521</td> \n",
       "</tr>\n",
       "<tr>\n",
       "  <th>Model:</th>                   <td>OLS</td>       <th>  Adj. R-squared:    </th> <td>   0.520</td> \n",
       "</tr>\n",
       "<tr>\n",
       "  <th>Method:</th>             <td>Least Squares</td>  <th>  F-statistic:       </th> <td>   756.0</td> \n",
       "</tr>\n",
       "<tr>\n",
       "  <th>Date:</th>             <td>Mon, 17 Aug 2020</td> <th>  Prob (F-statistic):</th>  <td>  0.00</td>  \n",
       "</tr>\n",
       "<tr>\n",
       "  <th>Time:</th>                 <td>20:46:40</td>     <th>  Log-Likelihood:    </th> <td> -9279.0</td> \n",
       "</tr>\n",
       "<tr>\n",
       "  <th>No. Observations:</th>      <td>  4177</td>      <th>  AIC:               </th> <td>1.857e+04</td>\n",
       "</tr>\n",
       "<tr>\n",
       "  <th>Df Residuals:</th>          <td>  4170</td>      <th>  BIC:               </th> <td>1.862e+04</td>\n",
       "</tr>\n",
       "<tr>\n",
       "  <th>Df Model:</th>              <td>     6</td>      <th>                     </th>     <td> </td>    \n",
       "</tr>\n",
       "<tr>\n",
       "  <th>Covariance Type:</th>      <td>nonrobust</td>    <th>                     </th>     <td> </td>    \n",
       "</tr>\n",
       "</table>\n",
       "<table class=\"simpletable\">\n",
       "<tr>\n",
       "      <td></td>         <th>coef</th>     <th>std err</th>      <th>t</th>      <th>P>|t|</th>  <th>[0.025</th>    <th>0.975]</th>  \n",
       "</tr>\n",
       "<tr>\n",
       "  <th>Intercept</th> <td>    3.3072</td> <td>    0.268</td> <td>   12.358</td> <td> 0.000</td> <td>    2.783</td> <td>    3.832</td>\n",
       "</tr>\n",
       "<tr>\n",
       "  <th>Sweight</th>   <td>  -20.4372</td> <td>    0.828</td> <td>  -24.670</td> <td> 0.000</td> <td>  -22.061</td> <td>  -18.813</td>\n",
       "</tr>\n",
       "<tr>\n",
       "  <th>Vweight</th>   <td>   -9.3395</td> <td>    1.311</td> <td>   -7.122</td> <td> 0.000</td> <td>  -11.910</td> <td>   -6.769</td>\n",
       "</tr>\n",
       "<tr>\n",
       "  <th>ssweight</th>  <td>    9.4849</td> <td>    1.138</td> <td>    8.333</td> <td> 0.000</td> <td>    7.253</td> <td>   11.716</td>\n",
       "</tr>\n",
       "<tr>\n",
       "  <th>Length</th>    <td>   -1.1938</td> <td>    1.837</td> <td>   -0.650</td> <td> 0.516</td> <td>   -4.795</td> <td>    2.407</td>\n",
       "</tr>\n",
       "<tr>\n",
       "  <th>Diameter</th>  <td>   15.3454</td> <td>    2.237</td> <td>    6.859</td> <td> 0.000</td> <td>   10.959</td> <td>   19.731</td>\n",
       "</tr>\n",
       "<tr>\n",
       "  <th>Wweight</th>   <td>    9.3621</td> <td>    0.738</td> <td>   12.694</td> <td> 0.000</td> <td>    7.916</td> <td>   10.808</td>\n",
       "</tr>\n",
       "</table>\n",
       "<table class=\"simpletable\">\n",
       "<tr>\n",
       "  <th>Omnibus:</th>       <td>958.659</td> <th>  Durbin-Watson:     </th> <td>   1.372</td>\n",
       "</tr>\n",
       "<tr>\n",
       "  <th>Prob(Omnibus):</th> <td> 0.000</td>  <th>  Jarque-Bera (JB):  </th> <td>2589.663</td>\n",
       "</tr>\n",
       "<tr>\n",
       "  <th>Skew:</th>          <td> 1.217</td>  <th>  Prob(JB):          </th> <td>    0.00</td>\n",
       "</tr>\n",
       "<tr>\n",
       "  <th>Kurtosis:</th>      <td> 5.992</td>  <th>  Cond. No.          </th> <td>    130.</td>\n",
       "</tr>\n",
       "</table><br/><br/>Warnings:<br/>[1] Standard Errors assume that the covariance matrix of the errors is correctly specified."
      ],
      "text/plain": [
       "<class 'statsmodels.iolib.summary.Summary'>\n",
       "\"\"\"\n",
       "                            OLS Regression Results                            \n",
       "==============================================================================\n",
       "Dep. Variable:                  Rings   R-squared:                       0.521\n",
       "Model:                            OLS   Adj. R-squared:                  0.520\n",
       "Method:                 Least Squares   F-statistic:                     756.0\n",
       "Date:                Mon, 17 Aug 2020   Prob (F-statistic):               0.00\n",
       "Time:                        20:46:40   Log-Likelihood:                -9279.0\n",
       "No. Observations:                4177   AIC:                         1.857e+04\n",
       "Df Residuals:                    4170   BIC:                         1.862e+04\n",
       "Df Model:                           6                                         \n",
       "Covariance Type:            nonrobust                                         \n",
       "==============================================================================\n",
       "                 coef    std err          t      P>|t|      [0.025      0.975]\n",
       "------------------------------------------------------------------------------\n",
       "Intercept      3.3072      0.268     12.358      0.000       2.783       3.832\n",
       "Sweight      -20.4372      0.828    -24.670      0.000     -22.061     -18.813\n",
       "Vweight       -9.3395      1.311     -7.122      0.000     -11.910      -6.769\n",
       "ssweight       9.4849      1.138      8.333      0.000       7.253      11.716\n",
       "Length        -1.1938      1.837     -0.650      0.516      -4.795       2.407\n",
       "Diameter      15.3454      2.237      6.859      0.000      10.959      19.731\n",
       "Wweight        9.3621      0.738     12.694      0.000       7.916      10.808\n",
       "==============================================================================\n",
       "Omnibus:                      958.659   Durbin-Watson:                   1.372\n",
       "Prob(Omnibus):                  0.000   Jarque-Bera (JB):             2589.663\n",
       "Skew:                           1.217   Prob(JB):                         0.00\n",
       "Kurtosis:                       5.992   Cond. No.                         130.\n",
       "==============================================================================\n",
       "\n",
       "Warnings:\n",
       "[1] Standard Errors assume that the covariance matrix of the errors is correctly specified.\n",
       "\"\"\""
      ]
     },
     "execution_count": 70,
     "metadata": {},
     "output_type": "execute_result"
    }
   ],
   "source": [
    "z='Rings~Sweight+Vweight+ssweight+Length+Diameter+Wweight'\n",
    "Models(z)"
   ]
  },
  {
   "cell_type": "code",
   "execution_count": null,
   "metadata": {},
   "outputs": [],
   "source": []
  },
  {
   "cell_type": "code",
   "execution_count": 71,
   "metadata": {},
   "outputs": [],
   "source": [
    "#No change even upon Removing the influence plot "
   ]
  },
  {
   "cell_type": "code",
   "execution_count": 72,
   "metadata": {},
   "outputs": [
    {
     "data": {
      "text/html": [
       "<table class=\"simpletable\">\n",
       "<caption>OLS Regression Results</caption>\n",
       "<tr>\n",
       "  <th>Dep. Variable:</th>          <td>Rings</td>      <th>  R-squared:         </th> <td>   0.497</td> \n",
       "</tr>\n",
       "<tr>\n",
       "  <th>Model:</th>                   <td>OLS</td>       <th>  Adj. R-squared:    </th> <td>   0.496</td> \n",
       "</tr>\n",
       "<tr>\n",
       "  <th>Method:</th>             <td>Least Squares</td>  <th>  F-statistic:       </th> <td>   1029.</td> \n",
       "</tr>\n",
       "<tr>\n",
       "  <th>Date:</th>             <td>Mon, 17 Aug 2020</td> <th>  Prob (F-statistic):</th>  <td>  0.00</td>  \n",
       "</tr>\n",
       "<tr>\n",
       "  <th>Time:</th>                 <td>20:46:40</td>     <th>  Log-Likelihood:    </th> <td> -9383.1</td> \n",
       "</tr>\n",
       "<tr>\n",
       "  <th>No. Observations:</th>      <td>  4177</td>      <th>  AIC:               </th> <td>1.878e+04</td>\n",
       "</tr>\n",
       "<tr>\n",
       "  <th>Df Residuals:</th>          <td>  4172</td>      <th>  BIC:               </th> <td>1.881e+04</td>\n",
       "</tr>\n",
       "<tr>\n",
       "  <th>Df Model:</th>              <td>     4</td>      <th>                     </th>     <td> </td>    \n",
       "</tr>\n",
       "<tr>\n",
       "  <th>Covariance Type:</th>      <td>nonrobust</td>    <th>                     </th>     <td> </td>    \n",
       "</tr>\n",
       "</table>\n",
       "<table class=\"simpletable\">\n",
       "<tr>\n",
       "      <td></td>         <th>coef</th>     <th>std err</th>      <th>t</th>      <th>P>|t|</th>  <th>[0.025</th>    <th>0.975]</th>  \n",
       "</tr>\n",
       "<tr>\n",
       "  <th>Intercept</th> <td>    3.1694</td> <td>    0.274</td> <td>   11.568</td> <td> 0.000</td> <td>    2.632</td> <td>    3.707</td>\n",
       "</tr>\n",
       "<tr>\n",
       "  <th>Sweight</th>   <td>  -11.7102</td> <td>    0.474</td> <td>  -24.679</td> <td> 0.000</td> <td>  -12.640</td> <td>  -10.780</td>\n",
       "</tr>\n",
       "<tr>\n",
       "  <th>Vweight</th>   <td>    0.8714</td> <td>    1.053</td> <td>    0.827</td> <td> 0.408</td> <td>   -1.194</td> <td>    2.937</td>\n",
       "</tr>\n",
       "<tr>\n",
       "  <th>ssweight</th>  <td>   22.2694</td> <td>    0.676</td> <td>   32.944</td> <td> 0.000</td> <td>   20.944</td> <td>   23.595</td>\n",
       "</tr>\n",
       "<tr>\n",
       "  <th>Length</th>    <td>   10.4897</td> <td>    0.797</td> <td>   13.164</td> <td> 0.000</td> <td>    8.927</td> <td>   12.052</td>\n",
       "</tr>\n",
       "</table>\n",
       "<table class=\"simpletable\">\n",
       "<tr>\n",
       "  <th>Omnibus:</th>       <td>1069.660</td> <th>  Durbin-Watson:     </th> <td>   1.337</td>\n",
       "</tr>\n",
       "<tr>\n",
       "  <th>Prob(Omnibus):</th>  <td> 0.000</td>  <th>  Jarque-Bera (JB):  </th> <td>3225.402</td>\n",
       "</tr>\n",
       "<tr>\n",
       "  <th>Skew:</th>           <td> 1.312</td>  <th>  Prob(JB):          </th> <td>    0.00</td>\n",
       "</tr>\n",
       "<tr>\n",
       "  <th>Kurtosis:</th>       <td> 6.412</td>  <th>  Cond. No.          </th> <td>    39.3</td>\n",
       "</tr>\n",
       "</table><br/><br/>Warnings:<br/>[1] Standard Errors assume that the covariance matrix of the errors is correctly specified."
      ],
      "text/plain": [
       "<class 'statsmodels.iolib.summary.Summary'>\n",
       "\"\"\"\n",
       "                            OLS Regression Results                            \n",
       "==============================================================================\n",
       "Dep. Variable:                  Rings   R-squared:                       0.497\n",
       "Model:                            OLS   Adj. R-squared:                  0.496\n",
       "Method:                 Least Squares   F-statistic:                     1029.\n",
       "Date:                Mon, 17 Aug 2020   Prob (F-statistic):               0.00\n",
       "Time:                        20:46:40   Log-Likelihood:                -9383.1\n",
       "No. Observations:                4177   AIC:                         1.878e+04\n",
       "Df Residuals:                    4172   BIC:                         1.881e+04\n",
       "Df Model:                           4                                         \n",
       "Covariance Type:            nonrobust                                         \n",
       "==============================================================================\n",
       "                 coef    std err          t      P>|t|      [0.025      0.975]\n",
       "------------------------------------------------------------------------------\n",
       "Intercept      3.1694      0.274     11.568      0.000       2.632       3.707\n",
       "Sweight      -11.7102      0.474    -24.679      0.000     -12.640     -10.780\n",
       "Vweight        0.8714      1.053      0.827      0.408      -1.194       2.937\n",
       "ssweight      22.2694      0.676     32.944      0.000      20.944      23.595\n",
       "Length        10.4897      0.797     13.164      0.000       8.927      12.052\n",
       "==============================================================================\n",
       "Omnibus:                     1069.660   Durbin-Watson:                   1.337\n",
       "Prob(Omnibus):                  0.000   Jarque-Bera (JB):             3225.402\n",
       "Skew:                           1.312   Prob(JB):                         0.00\n",
       "Kurtosis:                       6.412   Cond. No.                         39.3\n",
       "==============================================================================\n",
       "\n",
       "Warnings:\n",
       "[1] Standard Errors assume that the covariance matrix of the errors is correctly specified.\n",
       "\"\"\""
      ]
     },
     "execution_count": 72,
     "metadata": {},
     "output_type": "execute_result"
    }
   ],
   "source": [
    "ml3 = smf.ols('Rings~Sweight+Vweight+ssweight+Length',data=Data_WTDWw).fit()\n",
    "ml3.summary()"
   ]
  },
  {
   "cell_type": "code",
   "execution_count": 73,
   "metadata": {},
   "outputs": [
    {
     "name": "stdout",
     "output_type": "stream",
     "text": [
      "Length      0.014\n",
      "Diameter    0.010\n",
      "Height      0.002\n",
      "Wweight     0.243\n",
      "Sweight     0.050\n",
      "Vweight     0.012\n",
      "ssweight    0.020\n"
     ]
    }
   ],
   "source": [
    "print(X_train.var().round(3).to_string())"
   ]
  },
  {
   "cell_type": "code",
   "execution_count": 74,
   "metadata": {},
   "outputs": [],
   "source": [
    "#Influence Plot for the Best one "
   ]
  },
  {
   "cell_type": "code",
   "execution_count": 75,
   "metadata": {},
   "outputs": [],
   "source": [
    "ml2 = smf.ols('Rings~Sweight+Vweight+ssweight+Length+Diameter+Wweight',data=data).fit()"
   ]
  },
  {
   "cell_type": "code",
   "execution_count": 76,
   "metadata": {},
   "outputs": [
    {
     "data": {
      "image/png": "[encoded data removed]",
      "text/plain": [
       "<Figure size 432x288 with 1 Axes>"
      ]
     },
     "execution_count": 76,
     "metadata": {},
     "output_type": "execute_result"
    },
    {
     "data": {
      "image/png": "[encoded data removed]",
      "text/plain": [
       "<Figure size 432x288 with 1 Axes>"
      ]
     },
     "metadata": {
      "needs_background": "light"
     },
     "output_type": "display_data"
    }
   ],
   "source": [
    "sm.graphics.influence_plot(ml2)"
   ]
  },
  {
   "cell_type": "code",
   "execution_count": 77,
   "metadata": {},
   "outputs": [
    {
     "data": {
      "text/html": [
       "<table class=\"simpletable\">\n",
       "<caption>OLS Regression Results</caption>\n",
       "<tr>\n",
       "  <th>Dep. Variable:</th>          <td>Rings</td>      <th>  R-squared:         </th> <td>   0.523</td> \n",
       "</tr>\n",
       "<tr>\n",
       "  <th>Model:</th>                   <td>OLS</td>       <th>  Adj. R-squared:    </th> <td>   0.522</td> \n",
       "</tr>\n",
       "<tr>\n",
       "  <th>Method:</th>             <td>Least Squares</td>  <th>  F-statistic:       </th> <td>   761.4</td> \n",
       "</tr>\n",
       "<tr>\n",
       "  <th>Date:</th>             <td>Mon, 17 Aug 2020</td> <th>  Prob (F-statistic):</th>  <td>  0.00</td>  \n",
       "</tr>\n",
       "<tr>\n",
       "  <th>Time:</th>                 <td>20:46:53</td>     <th>  Log-Likelihood:    </th> <td> -9258.1</td> \n",
       "</tr>\n",
       "<tr>\n",
       "  <th>No. Observations:</th>      <td>  4172</td>      <th>  AIC:               </th> <td>1.853e+04</td>\n",
       "</tr>\n",
       "<tr>\n",
       "  <th>Df Residuals:</th>          <td>  4165</td>      <th>  BIC:               </th> <td>1.857e+04</td>\n",
       "</tr>\n",
       "<tr>\n",
       "  <th>Df Model:</th>              <td>     6</td>      <th>                     </th>     <td> </td>    \n",
       "</tr>\n",
       "<tr>\n",
       "  <th>Covariance Type:</th>      <td>nonrobust</td>    <th>                     </th>     <td> </td>    \n",
       "</tr>\n",
       "</table>\n",
       "<table class=\"simpletable\">\n",
       "<tr>\n",
       "      <td></td>         <th>coef</th>     <th>std err</th>      <th>t</th>      <th>P>|t|</th>  <th>[0.025</th>    <th>0.975]</th>  \n",
       "</tr>\n",
       "<tr>\n",
       "  <th>Intercept</th> <td>    3.3112</td> <td>    0.269</td> <td>   12.318</td> <td> 0.000</td> <td>    2.784</td> <td>    3.838</td>\n",
       "</tr>\n",
       "<tr>\n",
       "  <th>Sweight</th>   <td>  -21.1632</td> <td>    0.861</td> <td>  -24.585</td> <td> 0.000</td> <td>  -22.851</td> <td>  -19.476</td>\n",
       "</tr>\n",
       "<tr>\n",
       "  <th>Vweight</th>   <td>   -9.8831</td> <td>    1.334</td> <td>   -7.411</td> <td> 0.000</td> <td>  -12.498</td> <td>   -7.269</td>\n",
       "</tr>\n",
       "<tr>\n",
       "  <th>ssweight</th>  <td>    8.8705</td> <td>    1.179</td> <td>    7.525</td> <td> 0.000</td> <td>    6.559</td> <td>   11.182</td>\n",
       "</tr>\n",
       "<tr>\n",
       "  <th>Length</th>    <td>   -1.6837</td> <td>    1.890</td> <td>   -0.891</td> <td> 0.373</td> <td>   -5.390</td> <td>    2.022</td>\n",
       "</tr>\n",
       "<tr>\n",
       "  <th>Diameter</th>  <td>   16.0013</td> <td>    2.294</td> <td>    6.977</td> <td> 0.000</td> <td>   11.505</td> <td>   20.498</td>\n",
       "</tr>\n",
       "<tr>\n",
       "  <th>Wweight</th>   <td>    9.9528</td> <td>    0.772</td> <td>   12.891</td> <td> 0.000</td> <td>    8.439</td> <td>   11.466</td>\n",
       "</tr>\n",
       "</table>\n",
       "<table class=\"simpletable\">\n",
       "<tr>\n",
       "  <th>Omnibus:</th>       <td>938.394</td> <th>  Durbin-Watson:     </th> <td>   1.376</td>\n",
       "</tr>\n",
       "<tr>\n",
       "  <th>Prob(Omnibus):</th> <td> 0.000</td>  <th>  Jarque-Bera (JB):  </th> <td>2521.270</td>\n",
       "</tr>\n",
       "<tr>\n",
       "  <th>Skew:</th>          <td> 1.195</td>  <th>  Prob(JB):          </th> <td>    0.00</td>\n",
       "</tr>\n",
       "<tr>\n",
       "  <th>Kurtosis:</th>      <td> 5.964</td>  <th>  Cond. No.          </th> <td>    134.</td>\n",
       "</tr>\n",
       "</table><br/><br/>Warnings:<br/>[1] Standard Errors assume that the covariance matrix of the errors is correctly specified."
      ],
      "text/plain": [
       "<class 'statsmodels.iolib.summary.Summary'>\n",
       "\"\"\"\n",
       "                            OLS Regression Results                            \n",
       "==============================================================================\n",
       "Dep. Variable:                  Rings   R-squared:                       0.523\n",
       "Model:                            OLS   Adj. R-squared:                  0.522\n",
       "Method:                 Least Squares   F-statistic:                     761.4\n",
       "Date:                Mon, 17 Aug 2020   Prob (F-statistic):               0.00\n",
       "Time:                        20:46:53   Log-Likelihood:                -9258.1\n",
       "No. Observations:                4172   AIC:                         1.853e+04\n",
       "Df Residuals:                    4165   BIC:                         1.857e+04\n",
       "Df Model:                           6                                         \n",
       "Covariance Type:            nonrobust                                         \n",
       "==============================================================================\n",
       "                 coef    std err          t      P>|t|      [0.025      0.975]\n",
       "------------------------------------------------------------------------------\n",
       "Intercept      3.3112      0.269     12.318      0.000       2.784       3.838\n",
       "Sweight      -21.1632      0.861    -24.585      0.000     -22.851     -19.476\n",
       "Vweight       -9.8831      1.334     -7.411      0.000     -12.498      -7.269\n",
       "ssweight       8.8705      1.179      7.525      0.000       6.559      11.182\n",
       "Length        -1.6837      1.890     -0.891      0.373      -5.390       2.022\n",
       "Diameter      16.0013      2.294      6.977      0.000      11.505      20.498\n",
       "Wweight        9.9528      0.772     12.891      0.000       8.439      11.466\n",
       "==============================================================================\n",
       "Omnibus:                      938.394   Durbin-Watson:                   1.376\n",
       "Prob(Omnibus):                  0.000   Jarque-Bera (JB):             2521.270\n",
       "Skew:                           1.195   Prob(JB):                         0.00\n",
       "Kurtosis:                       5.964   Cond. No.                         134.\n",
       "==============================================================================\n",
       "\n",
       "Warnings:\n",
       "[1] Standard Errors assume that the covariance matrix of the errors is correctly specified.\n",
       "\"\"\""
      ]
     },
     "execution_count": 77,
     "metadata": {},
     "output_type": "execute_result"
    }
   ],
   "source": [
    "data_new=data.drop(data.index[[2627,3518,4052,3996,1210]])\n",
    "ml3 = smf.ols('Rings~Sweight+Vweight+ssweight+Length+Diameter+Wweight',data=data_new).fit()\n",
    "ml3.summary()"
   ]
  },
  {
   "cell_type": "markdown",
   "metadata": {},
   "source": [
    "#Power Transformation"
   ]
  },
  {
   "cell_type": "code",
   "execution_count": 78,
   "metadata": {},
   "outputs": [
    {
     "data": {
      "image/png": "[encoded data removed]",
      "text/plain": [
       "<Figure size 432x288 with 9 Axes>"
      ]
     },
     "metadata": {
      "needs_background": "light"
     },
     "output_type": "display_data"
    }
   ],
   "source": [
    "from pandas import read_csv\n",
    "from pandas import DataFrame\n",
    "from pandas.plotting import scatter_matrix\n",
    "from sklearn.preprocessing import PowerTransformer\n",
    "from matplotlib import pyplot\n",
    "data = pd.read_csv(r\"D:\\A.csv\")\n",
    "data=data.drop([\"Sex\"],axis=1)\n",
    "target = data.values[:,-1]\n",
    "data1 = data.values[:, :-1]\n",
    "pt = PowerTransformer(method='yeo-johnson')\n",
    "data1 = pt.fit_transform(data1)\n",
    "data = DataFrame(data1)\n",
    "data.hist()\n",
    "pyplot.show()"
   ]
  },
  {
   "cell_type": "code",
   "execution_count": 79,
   "metadata": {},
   "outputs": [],
   "source": [
    "#Taking new data since the previous variable had been changed a lot \n",
    "data_CL = pd.read_csv(r\"D:\\A.csv\")\n",
    "data_CL=data_CL.drop(\"Sex\",axis=1)\n",
    "target=data_CL[\"Rings\"]"
   ]
  },
  {
   "cell_type": "code",
   "execution_count": 80,
   "metadata": {},
   "outputs": [],
   "source": [
    "from sklearn.preprocessing import PowerTransformer\n",
    "pt = PowerTransformer(method='yeo-johnson')\n",
    "data_CL = pt.fit_transform(data_CL)"
   ]
  },
  {
   "cell_type": "code",
   "execution_count": 81,
   "metadata": {},
   "outputs": [
    {
     "name": "stdout",
     "output_type": "stream",
     "text": [
      "               Model  Original RMSE  Without Diameter RMSE  \\\n",
      "0  Linear Regression       2.224529               2.224529   \n",
      "1      Decision Tree       3.006037               2.987890   \n",
      "2      Random Forest       2.355344               2.332522   \n",
      "3                SVR       2.126135               2.126135   \n",
      "4                KNN       2.216134               2.216134   \n",
      "5          Ada Boost       2.925610               2.735127   \n",
      "6           Boosting       2.326245               2.286028   \n",
      "7     Gradient Boost       2.633251               2.633251   \n",
      "\n",
      "   Without Diameter and WW RMSE  Power Transformation RMSE  \n",
      "0                      2.224529                   0.599163  \n",
      "1                      3.092600                   0.026929  \n",
      "2                      2.287482                   0.038178  \n",
      "3                      2.126135                   0.425278  \n",
      "4                      2.216134                   0.407904  \n",
      "5                      2.832891                   0.506879  \n",
      "6                      2.260780                   0.051938  \n",
      "7                      2.633251                   0.120429  \n"
     ]
    }
   ],
   "source": [
    "F_CL=data_CL\n",
    "T_CL=target\n",
    "\n",
    "CL_LR=LR(F_CL,T_CL)\n",
    "CL_DT=DT(F_CL,T_CL)\n",
    "CL_RF=RF(F_CL,T_CL)\n",
    "CL_KNN=KNN(F_CL,T_CL)\n",
    "CL_AB=AB(F_CL,T_CL)\n",
    "CL_SVR=SV(F_CL,T_CL)\n",
    "CL_BC=BC(F_CL,T_CL)\n",
    "CL_GBC=GBC(F_CL,T_CL)\n",
    "\n",
    "\n",
    "\n",
    "ORIGINAL = pd.DataFrame({\n",
    "\"Model\" : [\"Linear Regression\", \"Decision Tree\", \"Random Forest\",\"SVR\", \"KNN\", \"Ada Boost\", \"Boosting\", \"Gradient Boost\"],\n",
    "\"Original RMSE\" : [ORIGINAL_LR,ORIGINAL_DT,ORIGINAL_RF,ORIGINAL_SVR,ORIGINAL_KNN,ORIGINAL_AB,ORIGINAL_BC,ORIGINAL_GBC],\n",
    "    \"Without Diameter RMSE\": [WT_D_LR,WT_D_DT,WT_D_RF,WT_D_SVR,WT_D_KNN,WT_D_AB,WT_D_BC,WT_D_GBC],\n",
    "    \"Without Diameter and WW RMSE\": [WT_DWw_LR,WT_DWw_DT,WT_DWw_RF,WT_DWw_SVR,WT_DWw_KNN,WT_DWw_AB,WT_DWw_BC,WT_DWw_GBC],\n",
    "    \"Power Transformation RMSE\" : [CL_LR,CL_DT,CL_RF,CL_KNN,CL_AB,CL_SVR,CL_BC,CL_GBC]\n",
    "})\n",
    "\n",
    "print(ORIGINAL)"
   ]
  },
  {
   "cell_type": "code",
   "execution_count": null,
   "metadata": {},
   "outputs": [],
   "source": []
  }
 ],
 "metadata": {
  "kernelspec": {
   "display_name": "Python 3",
   "language": "python",
   "name": "python3"
  },
  "language_info": {
   "codemirror_mode": {
    "name": "ipython",
    "version": 3
   },
   "file_extension": ".py",
   "mimetype": "text/x-python",
   "name": "python",
   "nbconvert_exporter": "python",
   "pygments_lexer": "ipython3",
   "version": "3.8.3"
  }
 },
 "nbformat": 4,
 "nbformat_minor": 4
}
